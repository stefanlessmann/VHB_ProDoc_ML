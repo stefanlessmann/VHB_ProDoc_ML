{
 "cells": [
  {
   "cell_type": "markdown",
   "metadata": {
    "colab_type": "text",
    "id": "7r3pvDQF9hGk"
   },
   "source": [
    "# Task 2: Distinguishing borrowers into good and bad credit risks\n",
    "In our second task, we continue working on binary classification using  logistic regression. However, instead of synthetic toy data, we will use a real world-data set referring to risk management and decision-making in credit scoring. Compared to our first task, this classification problem is much harder to solve and requires a number of steps to get a good result. The following tasks will guide you through the process of loading, integrating, and preparing the data to eventually develop a logistic regression model. The final model predicts the probability of a credit applicant to default, meaning that the outstanding amount would not be paid back (in full). If you would like some  background information on retail credit risk assessment, have a look at our paper on[ benchmarking classification models for credit scoring](https://doi.org/10.1016/j.ejor.2015.05.030).\n",
    "\n",
    "Should you feel that logistic regression is a rather simple model for a machine learning course, I can assure you that we will look at several more advanced learning algorithms in the course and apply some of these to the same credit scoring data you are about to use. That said, note that logistic regression is the single most important model for loan approval decisions in the industry. Familiarity with logistic regression is crucial for every data scientists and  machine learners. \n",
    "\n",
    "Also note that the focus of the task is not on developing a highly accurate classifier. This will soon become our goal but first we need to do some homework: **data preparation**. Data preparation is the core of the task. The data set is challenging and you need to work hard to bring the data into a form that facilitates building classification models. In the scope of doing so, you will work intensively with Python libraries commonly used in machine learning such as Pandas. Becoming acquainted with these libraries and gaining experience in working with complex, messy real-world data is the core of the task. \n",
    "\n",
    "So let's being with loading some of these standard libraries."
   ]
  },
  {
   "cell_type": "code",
   "execution_count": null,
   "metadata": {
    "colab": {},
    "colab_type": "code",
    "id": "tjjQ9GwyAGzE"
   },
   "outputs": [],
   "source": [
    "# Loading some libraries we will need soon\n",
    "import gc\n",
    "import pandas as pd\n",
    "import numpy as np\n",
    "import matplotlib.pyplot as plt"
   ]
  },
  {
   "cell_type": "markdown",
   "metadata": {
    "colab_type": "text",
    "id": "VxFmZc5jO18l"
   },
   "source": [
    "We are ready to start working with the data that we obtained from Kaggle. As has probably become clear already, the following tasks are nontrivial and might challenge you quite a bit. Work hard to solve them. It is definitely possible. Since the data is well-known, you can also find much information and tips online, e.g., in the forum of the [Kaggle competition](https://www.kaggle.com/discussion). Should you nonetheless struggle with getting the data ready for analysis, using a shortcut is better than giving up. Much of the complexity of the following tasks comes from us integrating different sources of data. Getting the data ready for analysis would be a lot easier when using only the single data file *application_train.csv*. Using only this file, you could still perform many of the tasks we discuss below including handling missing values and outliers, scaling numeric variables, encoding categories, and, of course, developing a logistic regression classifier. "
   ]
  },
  {
   "cell_type": "markdown",
   "metadata": {
    "colab_type": "text",
    "id": "f1NCFGhGjm-7"
   },
   "source": [
    "## Create the initial dataset\n",
    "We will consider a subset of the available data from the [Kaggle Home credit default risk competition](https://www.kaggle.com/c/home-credit-default-risk/data):\n",
    "- application_train\n",
    "- application_test\n",
    "- bureau\n",
    "- previous_application\n",
    "\n",
    "The terms *training* and *test* data are omnipresent in (supervised) machine learning. We use the training data to build a model and the test data to assess that model. Importantly, the assessment involves applying the fully-specified (i.e., train**ed**) model to data that was not used before during model development (i.e., train**ing**). Another, more technical, important difference between the train and test data is that the former provides true labels for observations (i.e., a binary default / no-default indicator) whereas the latter does not. By observations we mean the rows of a DATA table, which correspond to bank clients who apply for a loan in the home credit data set.\n",
    "\n",
    "First of all, we are required to load the pre-processed h5 file as well as the datasets it contains. This requires you to have executed the data integration notebook for the home credit data and that the h5 file is available. Should that not be the case make sure to run the data integration notebook before moving on.\n",
    "\n",
    "We will now merge both train and test data with the other two datasets. First load the four above data sets into different pandas data frames using the *read_hdf* function. "
   ]
  },
  {
   "cell_type": "code",
   "execution_count": 1,
   "metadata": {
    "colab": {
     "base_uri": "https://localhost:8080/",
     "height": 129
    },
    "colab_type": "code",
    "executionInfo": {
     "elapsed": 25761,
     "status": "ok",
     "timestamp": 1582876468269,
     "user": {
      "displayName": "Stefan Lessmann",
      "photoUrl": "https://lh3.googleusercontent.com/a-/AAuE7mCKZH0fFnuEStM6yZiXF-j1YmQDSOa5-mEYXknC=s64",
      "userId": "06342662613942148717"
     },
     "user_tz": -60
    },
    "id": "wsGyTcxN5Ixd",
    "outputId": "c8c52f4f-0bf1-48fb-b2b4-7d67087e29dc"
   },
   "outputs": [
    {
     "ename": "ModuleNotFoundError",
     "evalue": "No module named 'google.colab'",
     "output_type": "error",
     "traceback": [
      "\u001b[1;31m---------------------------------------------------------------------------\u001b[0m",
      "\u001b[1;31mModuleNotFoundError\u001b[0m                       Traceback (most recent call last)",
      "\u001b[1;32m<ipython-input-1-2496c1abe224>\u001b[0m in \u001b[0;36m<module>\u001b[1;34m\u001b[0m\n\u001b[0;32m      1\u001b[0m \u001b[1;31m# INTERNAL\u001b[0m\u001b[1;33m\u001b[0m\u001b[1;33m\u001b[0m\u001b[1;33m\u001b[0m\u001b[0m\n\u001b[1;32m----> 2\u001b[1;33m \u001b[1;32mfrom\u001b[0m \u001b[0mgoogle\u001b[0m\u001b[1;33m.\u001b[0m\u001b[0mcolab\u001b[0m \u001b[1;32mimport\u001b[0m \u001b[0mdrive\u001b[0m\u001b[1;33m\u001b[0m\u001b[1;33m\u001b[0m\u001b[0m\n\u001b[0m\u001b[0;32m      3\u001b[0m \u001b[0mdrive\u001b[0m\u001b[1;33m.\u001b[0m\u001b[0mmount\u001b[0m\u001b[1;33m(\u001b[0m\u001b[1;34m'/content/drive'\u001b[0m\u001b[1;33m)\u001b[0m\u001b[1;33m\u001b[0m\u001b[1;33m\u001b[0m\u001b[0m\n",
      "\u001b[1;31mModuleNotFoundError\u001b[0m: No module named 'google.colab'"
     ]
    }
   ],
   "source": [
    "# INTERNAL\n",
    "from google.colab import drive\n",
    "drive.mount('/content/drive')"
   ]
  },
  {
   "cell_type": "code",
   "execution_count": null,
   "metadata": {
    "colab": {},
    "colab_type": "code",
    "id": "G4h-DluazsUT"
   },
   "outputs": [],
   "source": [
    "# Here is your first job: \n",
    "# Load the following data sets from the file data.h5, which you created when\n",
    "# executing the data integration notebook. Create one dataframe for each data \n",
    "# set. \n",
    "#   application_train (appl_train)\n",
    "#   application_test (appl_test)\n",
    "#   bureau (bureau)\n",
    "#   previous_application (prev)\n",
    "# where the entries in brackets suggests names for the corresponding variables.\n",
    "appl_train = pd.read_hdf('/content/drive/My Drive/ProDok/data.h5', key='appl_train')\n",
    "appl_test  = pd.read_hdf('/content/drive/My Drive/ProDok/data.h5', key='appl_test')\n",
    "bureau     = pd.read_hdf('/content/drive/My Drive/ProDok/data.h5', key='bureau')\n",
    "prev       = pd.read_hdf('/content/drive/My Drive/ProDok/data.h5', key='prev')"
   ]
  },
  {
   "cell_type": "markdown",
   "metadata": {
    "colab_type": "text",
    "id": "819Zp4SdyYEE"
   },
   "source": [
    "Well done!\n",
    "\n",
    "I know that the task to load some data seems rather trivial. However, especially when working with colab, some seemingly rudimentary tasks are not so easy and probably new to participants who have not used cloud-based services before. Hence, good you made it till here!\n",
    "\n",
    "You may have wondered why we have to bother with four different files at all. Well, companies routinely store data in databases and these consist of individual tables. The organization of the data at Kaggle mimics this approach. Different pieces of information are available in different tables, which can be linked to one another via shared columns (called foreign keys in database jargon). \n",
    "\n",
    "### Integrating the data\n",
    "Our next task is to merge the data set to create one big table. To that end, you first have to identify suitable key columns, which facilitate joining the different data sets. Note that the data set [homepage](https://www.kaggle.com/c/home-credit-default-risk/data) offers a nice graph of the structure of the data. Considering that graph, identifying suitable keys should not be that difficult. Once accomplished, the missing bit is a suitable function to merge data frames. A good time to ask your favorite search engine for help ;)"
   ]
  },
  {
   "cell_type": "code",
   "execution_count": null,
   "metadata": {
    "colab": {},
    "colab_type": "code",
    "id": "GGwOSoWSqJ5G"
   },
   "outputs": [],
   "source": [
    "# Merge the data on previous applications (prev) into the training data (appl_train)\n",
    "# and also into the test data (appl_test)\n",
    "train = pd.merge(left=appl_train, right=prev, on='SK_ID_CURR', how='left' )\n",
    "test  = pd.merge(left=appl_test,  right=prev, on='SK_ID_CURR', how='left')"
   ]
  },
  {
   "cell_type": "code",
   "execution_count": null,
   "metadata": {
    "colab": {},
    "colab_type": "code",
    "id": "mYMDqH39S1rN"
   },
   "outputs": [],
   "source": [
    "# Next merge the credit bureau data into the training and test set.\n",
    "train = pd.merge(left=train, right=bureau, on='SK_ID_CURR', how='left')\n",
    "test = pd.merge(left=test, right=bureau, on='SK_ID_CURR', how='left')"
   ]
  },
  {
   "cell_type": "markdown",
   "metadata": {
    "colab_type": "text",
    "id": "ZNoPYScr_qLA"
   },
   "source": [
    "\n",
    "Note that the above operation of merging the data is equivalent to a join operation in SQL. Did you know that SQL knows different ways to join tables? Check which type of join you have performed, left, right, or inner. And then ask yourself what type would the correct for our data."
   ]
  },
  {
   "cell_type": "markdown",
   "metadata": {
    "colab_type": "text",
    "id": "sx8_IAQUO2Ub"
   },
   "source": [
    "At this point, you should have two dataframes that store the training and test data, respectively. Run the following code cell to get an overview of all variables in your workspace. Also add code to display the dimensionality of your data, that is the number of rows and columns. Do this for the training and test set."
   ]
  },
  {
   "cell_type": "code",
   "execution_count": null,
   "metadata": {
    "colab": {
     "base_uri": "https://localhost:8080/",
     "height": 311
    },
    "colab_type": "code",
    "executionInfo": {
     "elapsed": 974,
     "status": "ok",
     "timestamp": 1582817018798,
     "user": {
      "displayName": "Stefan Lessmann",
      "photoUrl": "https://lh3.googleusercontent.com/a-/AAuE7mCKZH0fFnuEStM6yZiXF-j1YmQDSOa5-mEYXknC=s64",
      "userId": "06342662613942148717"
     },
     "user_tz": -60
    },
    "id": "sMLEKsXiADjA",
    "outputId": "2ac18f45-ee78-4995-b0a8-95c1e064a730"
   },
   "outputs": [
    {
     "name": "stdout",
     "output_type": "stream",
     "text": [
      "Variable     Type         Data/Info\n",
      "-----------------------------------\n",
      "appl_test    DataFrame           SK_ID_CURR  ...  a<...>[48744 rows x 26 columns]\n",
      "appl_train   DataFrame            SK_ID_CURR  ...  <...>307511 rows x 27 columns]\n",
      "bureau       DataFrame             SK_ID_CURR  ... <...>716428 rows x 12 columns]\n",
      "drive        module       <module 'google.colab.dri<...>s/google/colab/drive.py'>\n",
      "gc           module       <module 'gc' (built-in)>\n",
      "np           module       <module 'numpy' from '/us<...>kages/numpy/__init__.py'>\n",
      "pd           module       <module 'pandas' from '/u<...>ages/pandas/__init__.py'>\n",
      "plt          module       <module 'matplotlib.pyplo<...>es/matplotlib/pyplot.py'>\n",
      "prev         DataFrame             SK_ID_CURR  ... <...>670214 rows x 30 columns]\n",
      "test         DataFrame             SK_ID_CURR  ... <...>582679 rows x 66 columns]\n",
      "train        DataFrame             SK_ID_CURR  TARG<...>091522 rows x 67 columns]\n",
      "Dimension of the training and test set:\n",
      "(8091522, 67)\n",
      "(1582679, 66)\n"
     ]
    }
   ],
   "source": [
    "# Run this to get an overview of variables in your workspace\n",
    "%whos\n",
    "\n",
    "# Write some code to query the dimensionality of your dataframes. \n",
    "# Put differently, how many rows and columns are available in the \n",
    "# training and test set?\n",
    "print('\\nDimension of the training and test set:')\n",
    "print(train.shape)\n",
    "print(test.shape)"
   ]
  },
  {
   "cell_type": "markdown",
   "metadata": {
    "colab_type": "text",
    "id": "eTc__9tHPnJs"
   },
   "source": [
    "You should see a bit more than 8 mio. rows in the training set and about close to 1.6 mio. rows in the test set. That is a lot of data! Complete the following code cell to query the dimensionality of the original dataframes that you have loaded from data.h5"
   ]
  },
  {
   "cell_type": "code",
   "execution_count": null,
   "metadata": {
    "colab": {
     "base_uri": "https://localhost:8080/",
     "height": 90
    },
    "colab_type": "code",
    "executionInfo": {
     "elapsed": 429,
     "status": "ok",
     "timestamp": 1582817337912,
     "user": {
      "displayName": "Stefan Lessmann",
      "photoUrl": "https://lh3.googleusercontent.com/a-/AAuE7mCKZH0fFnuEStM6yZiXF-j1YmQDSOa5-mEYXknC=s64",
      "userId": "06342662613942148717"
     },
     "user_tz": -60
    },
    "id": "EQAmeStyQavY",
    "outputId": "34e38039-f456-47d3-c0a3-a5f52e955cdf"
   },
   "outputs": [
    {
     "name": "stdout",
     "output_type": "stream",
     "text": [
      "Appl. train: (307511, 27)\n",
      "Appl. test: (48744, 26)\n",
      "Bureau: (1716428, 12)\n",
      "Prev. appl.: (1670214, 30)\n"
     ]
    }
   ],
   "source": [
    "# Query dimensionality of the four dataframes \n",
    "# appl_train, appl_test, bureau, and prev.\n",
    "print('Appl. train: ' + str(appl_train.shape))\n",
    "print('Appl. test: ' + str(appl_test.shape))\n",
    "print('Bureau: ' + str(bureau.shape))\n",
    "print('Prev. appl.: ' + str(prev.shape))"
   ]
  },
  {
   "cell_type": "markdown",
   "metadata": {
    "colab_type": "text",
    "id": "GngHZRkKRAXv"
   },
   "source": [
    "Hopefully the above task was easy for you. It actually produced an important result. See how the original data was much smaller. For example, you should see 307511 observations in *application_train*. However, the number of observations in the dataframe *train*, which you created by merging the application, bureau, and previous applications data, was much larger; i.e., about 8 mio. Why is that?\n",
    "\n",
    "### Understanding data integration\n",
    "The answer is related to the way in which dataframes (tables) are merged (joined). I encourage you to spend some time on this matter to understand how we ended up with more than 8 mio. rows in the training data. Eyballing the data using the Pandas function *head() is a good starting point.  "
   ]
  },
  {
   "cell_type": "code",
   "execution_count": null,
   "metadata": {
    "colab": {
     "base_uri": "https://localhost:8080/",
     "height": 313
    },
    "colab_type": "code",
    "executionInfo": {
     "elapsed": 459,
     "status": "ok",
     "timestamp": 1582819510927,
     "user": {
      "displayName": "Stefan Lessmann",
      "photoUrl": "https://lh3.googleusercontent.com/a-/AAuE7mCKZH0fFnuEStM6yZiXF-j1YmQDSOa5-mEYXknC=s64",
      "userId": "06342662613942148717"
     },
     "user_tz": -60
    },
    "id": "_CCPwAefSYUE",
    "outputId": "f60b576d-c8fb-460f-c424-275921fc49a5"
   },
   "outputs": [
    {
     "data": {
      "text/html": [
       "<div>\n",
       "<style scoped>\n",
       "    .dataframe tbody tr th:only-of-type {\n",
       "        vertical-align: middle;\n",
       "    }\n",
       "\n",
       "    .dataframe tbody tr th {\n",
       "        vertical-align: top;\n",
       "    }\n",
       "\n",
       "    .dataframe thead th {\n",
       "        text-align: right;\n",
       "    }\n",
       "</style>\n",
       "<table border=\"1\" class=\"dataframe\">\n",
       "  <thead>\n",
       "    <tr style=\"text-align: right;\">\n",
       "      <th></th>\n",
       "      <th>SK_ID_CURR</th>\n",
       "      <th>TARGET</th>\n",
       "      <th>app_DAYS_BIRTH</th>\n",
       "      <th>app_AMT_ANNUITY</th>\n",
       "      <th>app_AMT_CREDIT</th>\n",
       "      <th>app_AMT_GOODS_PRICE</th>\n",
       "      <th>app_AMT_INCOME_TOTAL</th>\n",
       "      <th>app_CODE_GENDER</th>\n",
       "      <th>app_DAYS_ID_PUBLISH</th>\n",
       "      <th>app_DAYS_LAST_PHONE_CHANGE</th>\n",
       "      <th>app_DAYS_REGISTRATION</th>\n",
       "      <th>app_EMERGENCYSTATE_MODE</th>\n",
       "      <th>app_EXT_SOURCE_1</th>\n",
       "      <th>app_EXT_SOURCE_2</th>\n",
       "      <th>app_EXT_SOURCE_3</th>\n",
       "      <th>app_FLAG_EMP_PHONE</th>\n",
       "      <th>app_FLAG_WORK_PHONE</th>\n",
       "      <th>app_DAYS_EMPLOYED</th>\n",
       "      <th>app_NAME_CONTRACT_TYPE</th>\n",
       "      <th>app_NAME_EDUCATION_TYPE</th>\n",
       "      <th>app_NAME_HOUSING_TYPE</th>\n",
       "      <th>app_NAME_INCOME_TYPE</th>\n",
       "      <th>app_OCCUPATION_TYPE</th>\n",
       "      <th>app_ORGANIZATION_TYPE</th>\n",
       "      <th>app_REG_CITY_NOT_WORK_CITY</th>\n",
       "      <th>app_REGION_RATING_CLIENT</th>\n",
       "      <th>app_REGION_RATING_CLIENT_W_CITY</th>\n",
       "      <th>pre_SK_ID_PREV</th>\n",
       "      <th>pre_AMT_ANNUITY</th>\n",
       "      <th>pre_AMT_APPLICATION</th>\n",
       "      <th>pre_AMT_CREDIT</th>\n",
       "      <th>pre_AMT_DOWN_PAYMENT</th>\n",
       "      <th>pre_AMT_GOODS_PRICE</th>\n",
       "      <th>pre_CHANNEL_TYPE</th>\n",
       "      <th>pre_CNT_PAYMENT</th>\n",
       "      <th>pre_CODE_REJECT_REASON</th>\n",
       "      <th>pre_DAYS_DECISION</th>\n",
       "      <th>pre_DAYS_FIRST_DUE</th>\n",
       "      <th>pre_DAYS_LAST_DUE</th>\n",
       "      <th>pre_DAYS_TERMINATION</th>\n",
       "      <th>pre_HOUR_APPR_PROCESS_START</th>\n",
       "      <th>pre_NAME_CASH_LOAN_PURPOSE</th>\n",
       "      <th>pre_NAME_CLIENT_TYPE</th>\n",
       "      <th>pre_NAME_CONTRACT_STATUS</th>\n",
       "      <th>pre_NAME_CONTRACT_TYPE</th>\n",
       "      <th>pre_NAME_GOODS_CATEGORY</th>\n",
       "      <th>pre_NAME_PAYMENT_TYPE</th>\n",
       "      <th>pre_NAME_PORTFOLIO</th>\n",
       "      <th>pre_NAME_PRODUCT_TYPE</th>\n",
       "      <th>pre_NAME_SELLER_INDUSTRY</th>\n",
       "      <th>pre_NAME_TYPE_SUITE</th>\n",
       "      <th>pre_NAME_YIELD_GROUP</th>\n",
       "      <th>pre_PRODUCT_COMBINATION</th>\n",
       "      <th>pre_RATE_DOWN_PAYMENT</th>\n",
       "      <th>pre_RATE_INTEREST_PRIVILEGED</th>\n",
       "      <th>pre_SELLERPLACE_AREA</th>\n",
       "      <th>bur_SK_ID_BUREAU</th>\n",
       "      <th>bur_CREDIT_ACTIVE</th>\n",
       "      <th>bur_AMT_ANNUITY</th>\n",
       "      <th>bur_CREDIT_DAY_OVERDUE</th>\n",
       "      <th>bur_AMT_CREDIT_SUM_DEBT</th>\n",
       "      <th>bur_AMT_CREDIT_SUM_LIMIT</th>\n",
       "      <th>bur_AMT_CREDIT_SUM_OVERDUE</th>\n",
       "      <th>bur_CREDIT_TYPE</th>\n",
       "      <th>bur_DAYS_CREDIT</th>\n",
       "      <th>bur_DAYS_CREDIT_ENDDATE</th>\n",
       "      <th>bur_DAYS_CREDIT_UPDATE</th>\n",
       "    </tr>\n",
       "  </thead>\n",
       "  <tbody>\n",
       "    <tr>\n",
       "      <th>0</th>\n",
       "      <td>100002</td>\n",
       "      <td>1</td>\n",
       "      <td>-9461</td>\n",
       "      <td>24700.5</td>\n",
       "      <td>406597.5</td>\n",
       "      <td>351000.0</td>\n",
       "      <td>202500.0</td>\n",
       "      <td>M</td>\n",
       "      <td>-2120</td>\n",
       "      <td>-1134.0</td>\n",
       "      <td>-3648.0</td>\n",
       "      <td>No</td>\n",
       "      <td>0.083037</td>\n",
       "      <td>0.262949</td>\n",
       "      <td>0.139376</td>\n",
       "      <td>1</td>\n",
       "      <td>0</td>\n",
       "      <td>-637</td>\n",
       "      <td>Cash loans</td>\n",
       "      <td>Secondary / secondary special</td>\n",
       "      <td>House / apartment</td>\n",
       "      <td>Working</td>\n",
       "      <td>Laborers</td>\n",
       "      <td>Business Entity Type 3</td>\n",
       "      <td>0</td>\n",
       "      <td>2</td>\n",
       "      <td>2</td>\n",
       "      <td>1038818.0</td>\n",
       "      <td>9251.775391</td>\n",
       "      <td>179055.0</td>\n",
       "      <td>179055.0</td>\n",
       "      <td>0.0</td>\n",
       "      <td>179055.0</td>\n",
       "      <td>Stone</td>\n",
       "      <td>24.0</td>\n",
       "      <td>XAP</td>\n",
       "      <td>-606.0</td>\n",
       "      <td>-565.0</td>\n",
       "      <td>-25.0</td>\n",
       "      <td>-17.0</td>\n",
       "      <td>9.0</td>\n",
       "      <td>XAP</td>\n",
       "      <td>New</td>\n",
       "      <td>Approved</td>\n",
       "      <td>Consumer loans</td>\n",
       "      <td>Vehicles</td>\n",
       "      <td>XNA</td>\n",
       "      <td>POS</td>\n",
       "      <td>XNA</td>\n",
       "      <td>Auto technology</td>\n",
       "      <td>NaN</td>\n",
       "      <td>low_normal</td>\n",
       "      <td>POS other with interest</td>\n",
       "      <td>0.0</td>\n",
       "      <td>NaN</td>\n",
       "      <td>500.0</td>\n",
       "      <td>6158904.0</td>\n",
       "      <td>Closed</td>\n",
       "      <td>0.0</td>\n",
       "      <td>0.0</td>\n",
       "      <td>NaN</td>\n",
       "      <td>NaN</td>\n",
       "      <td>0.0</td>\n",
       "      <td>Credit card</td>\n",
       "      <td>-1125.0</td>\n",
       "      <td>-1038.0</td>\n",
       "      <td>-1038.0</td>\n",
       "    </tr>\n",
       "    <tr>\n",
       "      <th>1</th>\n",
       "      <td>100002</td>\n",
       "      <td>1</td>\n",
       "      <td>-9461</td>\n",
       "      <td>24700.5</td>\n",
       "      <td>406597.5</td>\n",
       "      <td>351000.0</td>\n",
       "      <td>202500.0</td>\n",
       "      <td>M</td>\n",
       "      <td>-2120</td>\n",
       "      <td>-1134.0</td>\n",
       "      <td>-3648.0</td>\n",
       "      <td>No</td>\n",
       "      <td>0.083037</td>\n",
       "      <td>0.262949</td>\n",
       "      <td>0.139376</td>\n",
       "      <td>1</td>\n",
       "      <td>0</td>\n",
       "      <td>-637</td>\n",
       "      <td>Cash loans</td>\n",
       "      <td>Secondary / secondary special</td>\n",
       "      <td>House / apartment</td>\n",
       "      <td>Working</td>\n",
       "      <td>Laborers</td>\n",
       "      <td>Business Entity Type 3</td>\n",
       "      <td>0</td>\n",
       "      <td>2</td>\n",
       "      <td>2</td>\n",
       "      <td>1038818.0</td>\n",
       "      <td>9251.775391</td>\n",
       "      <td>179055.0</td>\n",
       "      <td>179055.0</td>\n",
       "      <td>0.0</td>\n",
       "      <td>179055.0</td>\n",
       "      <td>Stone</td>\n",
       "      <td>24.0</td>\n",
       "      <td>XAP</td>\n",
       "      <td>-606.0</td>\n",
       "      <td>-565.0</td>\n",
       "      <td>-25.0</td>\n",
       "      <td>-17.0</td>\n",
       "      <td>9.0</td>\n",
       "      <td>XAP</td>\n",
       "      <td>New</td>\n",
       "      <td>Approved</td>\n",
       "      <td>Consumer loans</td>\n",
       "      <td>Vehicles</td>\n",
       "      <td>XNA</td>\n",
       "      <td>POS</td>\n",
       "      <td>XNA</td>\n",
       "      <td>Auto technology</td>\n",
       "      <td>NaN</td>\n",
       "      <td>low_normal</td>\n",
       "      <td>POS other with interest</td>\n",
       "      <td>0.0</td>\n",
       "      <td>NaN</td>\n",
       "      <td>500.0</td>\n",
       "      <td>6158905.0</td>\n",
       "      <td>Closed</td>\n",
       "      <td>NaN</td>\n",
       "      <td>0.0</td>\n",
       "      <td>0.0</td>\n",
       "      <td>NaN</td>\n",
       "      <td>0.0</td>\n",
       "      <td>Credit card</td>\n",
       "      <td>-476.0</td>\n",
       "      <td>NaN</td>\n",
       "      <td>-47.0</td>\n",
       "    </tr>\n",
       "    <tr>\n",
       "      <th>2</th>\n",
       "      <td>100002</td>\n",
       "      <td>1</td>\n",
       "      <td>-9461</td>\n",
       "      <td>24700.5</td>\n",
       "      <td>406597.5</td>\n",
       "      <td>351000.0</td>\n",
       "      <td>202500.0</td>\n",
       "      <td>M</td>\n",
       "      <td>-2120</td>\n",
       "      <td>-1134.0</td>\n",
       "      <td>-3648.0</td>\n",
       "      <td>No</td>\n",
       "      <td>0.083037</td>\n",
       "      <td>0.262949</td>\n",
       "      <td>0.139376</td>\n",
       "      <td>1</td>\n",
       "      <td>0</td>\n",
       "      <td>-637</td>\n",
       "      <td>Cash loans</td>\n",
       "      <td>Secondary / secondary special</td>\n",
       "      <td>House / apartment</td>\n",
       "      <td>Working</td>\n",
       "      <td>Laborers</td>\n",
       "      <td>Business Entity Type 3</td>\n",
       "      <td>0</td>\n",
       "      <td>2</td>\n",
       "      <td>2</td>\n",
       "      <td>1038818.0</td>\n",
       "      <td>9251.775391</td>\n",
       "      <td>179055.0</td>\n",
       "      <td>179055.0</td>\n",
       "      <td>0.0</td>\n",
       "      <td>179055.0</td>\n",
       "      <td>Stone</td>\n",
       "      <td>24.0</td>\n",
       "      <td>XAP</td>\n",
       "      <td>-606.0</td>\n",
       "      <td>-565.0</td>\n",
       "      <td>-25.0</td>\n",
       "      <td>-17.0</td>\n",
       "      <td>9.0</td>\n",
       "      <td>XAP</td>\n",
       "      <td>New</td>\n",
       "      <td>Approved</td>\n",
       "      <td>Consumer loans</td>\n",
       "      <td>Vehicles</td>\n",
       "      <td>XNA</td>\n",
       "      <td>POS</td>\n",
       "      <td>XNA</td>\n",
       "      <td>Auto technology</td>\n",
       "      <td>NaN</td>\n",
       "      <td>low_normal</td>\n",
       "      <td>POS other with interest</td>\n",
       "      <td>0.0</td>\n",
       "      <td>NaN</td>\n",
       "      <td>500.0</td>\n",
       "      <td>6158906.0</td>\n",
       "      <td>Closed</td>\n",
       "      <td>0.0</td>\n",
       "      <td>0.0</td>\n",
       "      <td>0.0</td>\n",
       "      <td>0.0</td>\n",
       "      <td>0.0</td>\n",
       "      <td>Consumer credit</td>\n",
       "      <td>-1437.0</td>\n",
       "      <td>-1072.0</td>\n",
       "      <td>-1185.0</td>\n",
       "    </tr>\n",
       "    <tr>\n",
       "      <th>3</th>\n",
       "      <td>100002</td>\n",
       "      <td>1</td>\n",
       "      <td>-9461</td>\n",
       "      <td>24700.5</td>\n",
       "      <td>406597.5</td>\n",
       "      <td>351000.0</td>\n",
       "      <td>202500.0</td>\n",
       "      <td>M</td>\n",
       "      <td>-2120</td>\n",
       "      <td>-1134.0</td>\n",
       "      <td>-3648.0</td>\n",
       "      <td>No</td>\n",
       "      <td>0.083037</td>\n",
       "      <td>0.262949</td>\n",
       "      <td>0.139376</td>\n",
       "      <td>1</td>\n",
       "      <td>0</td>\n",
       "      <td>-637</td>\n",
       "      <td>Cash loans</td>\n",
       "      <td>Secondary / secondary special</td>\n",
       "      <td>House / apartment</td>\n",
       "      <td>Working</td>\n",
       "      <td>Laborers</td>\n",
       "      <td>Business Entity Type 3</td>\n",
       "      <td>0</td>\n",
       "      <td>2</td>\n",
       "      <td>2</td>\n",
       "      <td>1038818.0</td>\n",
       "      <td>9251.775391</td>\n",
       "      <td>179055.0</td>\n",
       "      <td>179055.0</td>\n",
       "      <td>0.0</td>\n",
       "      <td>179055.0</td>\n",
       "      <td>Stone</td>\n",
       "      <td>24.0</td>\n",
       "      <td>XAP</td>\n",
       "      <td>-606.0</td>\n",
       "      <td>-565.0</td>\n",
       "      <td>-25.0</td>\n",
       "      <td>-17.0</td>\n",
       "      <td>9.0</td>\n",
       "      <td>XAP</td>\n",
       "      <td>New</td>\n",
       "      <td>Approved</td>\n",
       "      <td>Consumer loans</td>\n",
       "      <td>Vehicles</td>\n",
       "      <td>XNA</td>\n",
       "      <td>POS</td>\n",
       "      <td>XNA</td>\n",
       "      <td>Auto technology</td>\n",
       "      <td>NaN</td>\n",
       "      <td>low_normal</td>\n",
       "      <td>POS other with interest</td>\n",
       "      <td>0.0</td>\n",
       "      <td>NaN</td>\n",
       "      <td>500.0</td>\n",
       "      <td>6158907.0</td>\n",
       "      <td>Closed</td>\n",
       "      <td>0.0</td>\n",
       "      <td>0.0</td>\n",
       "      <td>NaN</td>\n",
       "      <td>NaN</td>\n",
       "      <td>0.0</td>\n",
       "      <td>Consumer credit</td>\n",
       "      <td>-1121.0</td>\n",
       "      <td>-911.0</td>\n",
       "      <td>-906.0</td>\n",
       "    </tr>\n",
       "    <tr>\n",
       "      <th>4</th>\n",
       "      <td>100002</td>\n",
       "      <td>1</td>\n",
       "      <td>-9461</td>\n",
       "      <td>24700.5</td>\n",
       "      <td>406597.5</td>\n",
       "      <td>351000.0</td>\n",
       "      <td>202500.0</td>\n",
       "      <td>M</td>\n",
       "      <td>-2120</td>\n",
       "      <td>-1134.0</td>\n",
       "      <td>-3648.0</td>\n",
       "      <td>No</td>\n",
       "      <td>0.083037</td>\n",
       "      <td>0.262949</td>\n",
       "      <td>0.139376</td>\n",
       "      <td>1</td>\n",
       "      <td>0</td>\n",
       "      <td>-637</td>\n",
       "      <td>Cash loans</td>\n",
       "      <td>Secondary / secondary special</td>\n",
       "      <td>House / apartment</td>\n",
       "      <td>Working</td>\n",
       "      <td>Laborers</td>\n",
       "      <td>Business Entity Type 3</td>\n",
       "      <td>0</td>\n",
       "      <td>2</td>\n",
       "      <td>2</td>\n",
       "      <td>1038818.0</td>\n",
       "      <td>9251.775391</td>\n",
       "      <td>179055.0</td>\n",
       "      <td>179055.0</td>\n",
       "      <td>0.0</td>\n",
       "      <td>179055.0</td>\n",
       "      <td>Stone</td>\n",
       "      <td>24.0</td>\n",
       "      <td>XAP</td>\n",
       "      <td>-606.0</td>\n",
       "      <td>-565.0</td>\n",
       "      <td>-25.0</td>\n",
       "      <td>-17.0</td>\n",
       "      <td>9.0</td>\n",
       "      <td>XAP</td>\n",
       "      <td>New</td>\n",
       "      <td>Approved</td>\n",
       "      <td>Consumer loans</td>\n",
       "      <td>Vehicles</td>\n",
       "      <td>XNA</td>\n",
       "      <td>POS</td>\n",
       "      <td>XNA</td>\n",
       "      <td>Auto technology</td>\n",
       "      <td>NaN</td>\n",
       "      <td>low_normal</td>\n",
       "      <td>POS other with interest</td>\n",
       "      <td>0.0</td>\n",
       "      <td>NaN</td>\n",
       "      <td>500.0</td>\n",
       "      <td>6158908.0</td>\n",
       "      <td>Closed</td>\n",
       "      <td>0.0</td>\n",
       "      <td>0.0</td>\n",
       "      <td>0.0</td>\n",
       "      <td>0.0</td>\n",
       "      <td>0.0</td>\n",
       "      <td>Consumer credit</td>\n",
       "      <td>-645.0</td>\n",
       "      <td>85.0</td>\n",
       "      <td>-34.0</td>\n",
       "    </tr>\n",
       "  </tbody>\n",
       "</table>\n",
       "</div>"
      ],
      "text/plain": [
       "   SK_ID_CURR  TARGET  ...  bur_DAYS_CREDIT_ENDDATE  bur_DAYS_CREDIT_UPDATE\n",
       "0      100002       1  ...                  -1038.0                 -1038.0\n",
       "1      100002       1  ...                      NaN                   -47.0\n",
       "2      100002       1  ...                  -1072.0                 -1185.0\n",
       "3      100002       1  ...                   -911.0                  -906.0\n",
       "4      100002       1  ...                     85.0                   -34.0\n",
       "\n",
       "[5 rows x 67 columns]"
      ]
     },
     "execution_count": 17,
     "metadata": {
      "tags": []
     },
     "output_type": "execute_result"
    }
   ],
   "source": [
    "# Use the function head() to get on overview of the training data after merging\n",
    "train.head()"
   ]
  },
  {
   "cell_type": "markdown",
   "metadata": {
    "colab_type": "text",
    "id": "cm8nOKWWSvjR"
   },
   "source": [
    "You should have seen a pattern that one credit applications, with a given ID, re-appears. Noting this pattern is the starting point to explaining the difference between 307511 credit applications in the training set (indeed, we do only have that many applications) and the more than 8 mio. observations we obtain after merging. Merging reproduces rows. \n",
    "\n",
    "Imagine a single credit applicant. Let's call her Eve. Eve applies for a loan. We would see one entry for Eve in the original training data (application_train at the Kaggle website). The data file previous_applications provides information about the credit history of Eve. Let's assume she had applied for ten different loans in the past. So the previous_applications file has ten entries for Eve. Merging application_train and previous_applications, we obtain ten entries for Eve in the resulting dataframe. The values for the variables (i.e., columns) of the application data re-occur over these ten rows, whereas the values in the columns belonging to the previous application data will vary. In the above sketch of the data, you can scroll to the right to verify that such a pattern exist. A first block of colums displays re-occuring values. Later on, there is a block of columns the values of which do not re-occur.\n",
    "\n",
    "I recommend you go back to previous steps, re-run cells, maybe playing a bit with the *head()* function, etc. to make sure you fully understand what has happend with the data before moving on. "
   ]
  },
  {
   "cell_type": "markdown",
   "metadata": {
    "colab_type": "text",
    "id": "deRxDMmorw9L"
   },
   "source": [
    "### Moving on\n",
    "Maybe it is time to clean up a little bit. Since you have the training and test data integrated, you do not need the dataframes that you created when loading the data from disk. Delete these and other unneeded variables from memory. This is important to avoid your notebook chrashing because of out of memory errors. Remeber, the training and test set have, togehter, close to 10 mio. observations. We better pay attention to how much memory or program consumes. "
   ]
  },
  {
   "cell_type": "code",
   "execution_count": null,
   "metadata": {
    "colab": {},
    "colab_type": "code",
    "id": "epwz_-WWsH73"
   },
   "outputs": [],
   "source": [
    "del bureau, prev, appl_train, appl_test"
   ]
  },
  {
   "cell_type": "markdown",
   "metadata": {
    "colab_type": "text",
    "id": "keNWWScWqguS"
   },
   "source": [
    "Machine learning commonly involves processing *large* data sets. The previous steps gave us a feeling for such data. Subsequent steps will also exemplify some of the specific challanges that arise when working with larger data sets. What I mean by that? You should ready yourself for experiecing your notebook to crash due to out of memory errors and the like. Your will also notice that certain computations take a 'little' time to complete. Do not allow such issues to frustrate you should they occur. Using machine learning in your research will involve processing nontrivial data sets. So it is good to get familiar with somewhat complex data and the home credit data was deliberately chosen for that reason.\n",
    "\n",
    "One idea to keep the level of frustration as low as possible. Whenever you have accomplised a task and created a new version of the data, you can store it to an h5 file. The data integration notebook has familiarized you with that operation. The benefit of storing intermediate results is that when your code crashes at some point, you can load the intermediate result (i.e., data) and re-start from there. This is easier compared to having to re-start from scratch every time."
   ]
  },
  {
   "cell_type": "markdown",
   "metadata": {
    "colab_type": "text",
    "id": "QFRhSDwwlUln"
   },
   "source": [
    "## Explorative data analysis (EDA)\n",
    "\n",
    "Finally, we are ready to start working with the data. As a rule of thumb, the first step is always to inspect the data and get a first impression.\n",
    "\n",
    "Your job is to figure out which of the variables in the data set, in other words columns, might be important for classifying observations (aka rows, aka credit applications) into good and bad risks.  \n",
    "\n",
    "In exploratory data analysis (EDA), as the name entails, we explore data - in particular by plotting the distribution of different variables or by looking at the correlation between variables.\n",
    "\n",
    "First of all, take a look at the distribution of the target variable.\n",
    "\n",
    "Then, take three variables from all three sources (application, bureau, previous_application). Create variable distribution and correlation plots to check whether the selected variables appear important. The packages matplotlib pyplot (already loaded) or alternatively seaborn will help you here.\n"
   ]
  },
  {
   "cell_type": "markdown",
   "metadata": {
    "colab_type": "text",
    "id": "mAF24SV47naI"
   },
   "source": [
    "### Application:"
   ]
  },
  {
   "cell_type": "code",
   "execution_count": null,
   "metadata": {
    "colab": {
     "base_uri": "https://localhost:8080/",
     "height": 265
    },
    "colab_type": "code",
    "executionInfo": {
     "elapsed": 2540,
     "status": "ok",
     "timestamp": 1582662425395,
     "user": {
      "displayName": "Stefan Lessmann",
      "photoUrl": "https://lh3.googleusercontent.com/a-/AAuE7mCKZH0fFnuEStM6yZiXF-j1YmQDSOa5-mEYXknC=s64",
      "userId": "06342662613942148717"
     },
     "user_tz": -60
    },
    "id": "kvsbcDlhpm_8",
    "outputId": "88cbfe0d-01b3-48a2-d81d-5a0f53cdc6b8"
   },
   "outputs": [
    {
     "data": {
      "image/png": "[encoded data removed]",
      "text/plain": [
       "<Figure size 432x288 with 1 Axes>"
      ]
     },
     "metadata": {
      "tags": []
     },
     "output_type": "display_data"
    }
   ],
   "source": [
    "# Plot the distribution of the target variable\n",
    "plt.hist([train['TARGET'][train['TARGET']==0],train['TARGET'][train['TARGET']==1]],label=[0,1])\n",
    "plt.show()"
   ]
  },
  {
   "cell_type": "code",
   "execution_count": null,
   "metadata": {
    "colab": {
     "base_uri": "https://localhost:8080/",
     "height": 275
    },
    "colab_type": "code",
    "executionInfo": {
     "elapsed": 4340,
     "status": "ok",
     "timestamp": 1582662525595,
     "user": {
      "displayName": "Stefan Lessmann",
      "photoUrl": "https://lh3.googleusercontent.com/a-/AAuE7mCKZH0fFnuEStM6yZiXF-j1YmQDSOa5-mEYXknC=s64",
      "userId": "06342662613942148717"
     },
     "user_tz": -60
    },
    "id": "RI190ivcG719",
    "outputId": "2c92fa58-32f4-434e-d8dc-d8f89364d2b3"
   },
   "outputs": [
    {
     "data": {
      "image/png": "[encoded data removed]",
      "text/plain": [
       "<Figure size 288x288 with 1 Axes>"
      ]
     },
     "metadata": {
      "tags": []
     },
     "output_type": "display_data"
    }
   ],
   "source": [
    "# Start out with a correlation plot -> strong correlation with the target variable \n",
    "# might be an indication that a variable is important. However, since there are \n",
    "# many variables in the data, I recommend you restrict the plot to a subset.\n",
    "correlation = train[['app_DAYS_BIRTH','app_DAYS_EMPLOYED','app_AMT_CREDIT','app_AMT_ANNUITY','app_AMT_INCOME_TOTAL','app_CNT_CHILDREN','app_EXT_SOURCE_1','TARGET']].corr()\n",
    "plt.matshow(correlation)\n",
    "plt.show()\n",
    "del correlation"
   ]
  },
  {
   "cell_type": "code",
   "execution_count": null,
   "metadata": {
    "colab": {
     "base_uri": "https://localhost:8080/",
     "height": 265
    },
    "colab_type": "code",
    "executionInfo": {
     "elapsed": 3330,
     "status": "ok",
     "timestamp": 1582662678149,
     "user": {
      "displayName": "Stefan Lessmann",
      "photoUrl": "https://lh3.googleusercontent.com/a-/AAuE7mCKZH0fFnuEStM6yZiXF-j1YmQDSOa5-mEYXknC=s64",
      "userId": "06342662613942148717"
     },
     "user_tz": -60
    },
    "id": "l4xRGlRmuvsX",
    "outputId": "e9fd401a-5770-4ced-d1fa-2cd8bfe35e7e"
   },
   "outputs": [
    {
     "data": {
      "image/png": "[encoded data removed]",
      "text/plain": [
       "<Figure size 432x288 with 1 Axes>"
      ]
     },
     "metadata": {
      "tags": []
     },
     "output_type": "display_data"
    }
   ],
   "source": [
    "# Comparison is difficult when not using density plots / stratified plots considering the target variable.\n",
    "# Out of the set of variables you consider above, select the one which is most \n",
    "# correlated with the target and visualize the variable's distribution for \n",
    "# good and bad credit applicants\n",
    "plt.hist([train['app_DAYS_BIRTH'][train['TARGET']==0],train['app_DAYS_BIRTH'][train['TARGET']==1]], label=[0,1])\n",
    "plt.legend()\n",
    "plt.show()"
   ]
  },
  {
   "cell_type": "markdown",
   "metadata": {
    "colab_type": "text",
    "id": "LlcplN7iDWM8"
   },
   "source": [
    "Play around by running your code for other variables and examine their distribution across the two states of our target variable, good or bad, which are encoded as zero and one, respectively in the data. Make sure to also plot the distributions using both counts and relative frequencies.\n",
    "Hint: check out the option *density=True*.\n",
    "Finally, recall that we have previously merged different sources of data, application data, which consists of the information a credit applicant provides upon applying for a loan, bureau data, which is gathered by credit bureaus like the Schufa in Germany of Experian in the US, and data from previous credit applications of the same applicant. Make sure to examine variables (create plots) from each of these sources, and remember your focus: you strive to identify *important* variables. This is why your plots should display a variable's distributions for good and bad customers. "
   ]
  },
  {
   "cell_type": "code",
   "execution_count": null,
   "metadata": {
    "colab": {
     "base_uri": "https://localhost:8080/",
     "height": 265
    },
    "colab_type": "code",
    "executionInfo": {
     "elapsed": 3355,
     "status": "ok",
     "timestamp": 1582663212899,
     "user": {
      "displayName": "Stefan Lessmann",
      "photoUrl": "https://lh3.googleusercontent.com/a-/AAuE7mCKZH0fFnuEStM6yZiXF-j1YmQDSOa5-mEYXknC=s64",
      "userId": "06342662613942148717"
     },
     "user_tz": -60
    },
    "id": "aWd8J-xfzPGc",
    "outputId": "1ebb3eb8-21a9-47f3-c6f0-ba6b6498557f"
   },
   "outputs": [
    {
     "data": {
      "image/png": "[encoded data removed]",
      "text/plain": [
       "<Figure size 432x288 with 1 Axes>"
      ]
     },
     "metadata": {
      "tags": []
     },
     "output_type": "display_data"
    }
   ],
   "source": [
    "# Using density plots makes the distribution more obvious and easy to compare\n",
    "plt.hist([train['app_DAYS_BIRTH'][train['TARGET']==0],train['app_DAYS_BIRTH'][train['TARGET']==1]], label=[0,1], density=True)\n",
    "plt.legend()\n",
    "plt.show()"
   ]
  },
  {
   "cell_type": "code",
   "execution_count": null,
   "metadata": {
    "colab": {
     "base_uri": "https://localhost:8080/",
     "height": 265
    },
    "colab_type": "code",
    "executionInfo": {
     "elapsed": 3172,
     "status": "ok",
     "timestamp": 1582663216499,
     "user": {
      "displayName": "Stefan Lessmann",
      "photoUrl": "https://lh3.googleusercontent.com/a-/AAuE7mCKZH0fFnuEStM6yZiXF-j1YmQDSOa5-mEYXknC=s64",
      "userId": "06342662613942148717"
     },
     "user_tz": -60
    },
    "id": "unSvUfnH1R7Q",
    "outputId": "b401faf7-0e4f-42b7-df53-294d84fa8510"
   },
   "outputs": [
    {
     "data": {
      "image/png": "[encoded data removed]",
      "text/plain": [
       "<Figure size 432x288 with 1 Axes>"
      ]
     },
     "metadata": {
      "tags": []
     },
     "output_type": "display_data"
    }
   ],
   "source": [
    "tmp = train['app_DAYS_EMPLOYED']\n",
    "tmp.replace(365243, np.NaN, inplace=True)\n",
    "plt.hist([tmp[train['TARGET']==0], tmp[train['TARGET']==1]], label=[0,1], density=True)\n",
    "plt.legend()\n",
    "plt.show()\n",
    "del tmp"
   ]
  },
  {
   "cell_type": "code",
   "execution_count": null,
   "metadata": {
    "colab": {
     "base_uri": "https://localhost:8080/",
     "height": 283
    },
    "colab_type": "code",
    "executionInfo": {
     "elapsed": 5204,
     "status": "ok",
     "timestamp": 1582663218998,
     "user": {
      "displayName": "Stefan Lessmann",
      "photoUrl": "https://lh3.googleusercontent.com/a-/AAuE7mCKZH0fFnuEStM6yZiXF-j1YmQDSOa5-mEYXknC=s64",
      "userId": "06342662613942148717"
     },
     "user_tz": -60
    },
    "id": "_ZNpFkkb1tyC",
    "outputId": "74d02262-f55f-4a40-d472-f63e1e3817ff"
   },
   "outputs": [
    {
     "data": {
      "image/png": "[encoded data removed]",
      "text/plain": [
       "<Figure size 432x288 with 1 Axes>"
      ]
     },
     "metadata": {
      "tags": []
     },
     "output_type": "display_data"
    },
    {
     "data": {
      "text/plain": [
       "11887"
      ]
     },
     "execution_count": 31,
     "metadata": {
      "tags": []
     },
     "output_type": "execute_result"
    }
   ],
   "source": [
    "plt.hist([train['app_AMT_CREDIT'][train['TARGET']==0],train['app_AMT_CREDIT'][train['TARGET']==1]], label=[0,1], density=True)\n",
    "plt.legend()\n",
    "plt.show()\n",
    "gc.collect()"
   ]
  },
  {
   "cell_type": "markdown",
   "metadata": {
    "colab_type": "text",
    "id": "IG1IRPYO7qJn"
   },
   "source": [
    "### Previous Applications:"
   ]
  },
  {
   "cell_type": "code",
   "execution_count": null,
   "metadata": {
    "colab": {
     "base_uri": "https://localhost:8080/"
    },
    "colab_type": "code",
    "executionInfo": {
     "elapsed": 2296,
     "status": "ok",
     "timestamp": 1582104285595,
     "user": {
      "displayName": "Elias Baumann",
      "photoUrl": "https://lh3.googleusercontent.com/a-/AAuE7mDAHZwh9LGaRNOi1RYpuOWYQCxx_o7iVGHtBC29Eg=s64",
      "userId": "16949006271748472642"
     },
     "user_tz": -60
    },
    "id": "tWh0KRp3I7W6",
    "outputId": "32b64ced-ad40-4dd2-81ec-7de7d6703219"
   },
   "outputs": [
    {
     "data": {
      "image/png": "[encoded data removed]",
      "text/plain": [
       "<Figure size 288x288 with 1 Axes>"
      ]
     },
     "metadata": {
      "tags": []
     },
     "output_type": "display_data"
    },
    {
     "data": {
      "text/plain": [
       "11352"
      ]
     },
     "execution_count": 54,
     "metadata": {
      "tags": []
     },
     "output_type": "execute_result"
    }
   ],
   "source": [
    "# Selected some variables\n",
    "correlation = train[['pre_AMT_ANNUITY','pre_AMT_CREDIT','pre_DAYS_DECISION','pre_DAYS_LAST_DUE','pre_CNT_PAYMENT','TARGET']].corr()\n",
    "plt.matshow(correlation)\n",
    "plt.show()\n",
    "del correlation\n",
    "gc.collect()"
   ]
  },
  {
   "cell_type": "code",
   "execution_count": null,
   "metadata": {
    "colab": {
     "base_uri": "https://localhost:8080/"
    },
    "colab_type": "code",
    "executionInfo": {
     "elapsed": 3471,
     "status": "ok",
     "timestamp": 1582104292493,
     "user": {
      "displayName": "Elias Baumann",
      "photoUrl": "https://lh3.googleusercontent.com/a-/AAuE7mDAHZwh9LGaRNOi1RYpuOWYQCxx_o7iVGHtBC29Eg=s64",
      "userId": "16949006271748472642"
     },
     "user_tz": -60
    },
    "id": "Q78AUB3j7tXK",
    "outputId": "56ffe695-7c5f-4192-d523-cd189735ea5a"
   },
   "outputs": [
    {
     "data": {
      "image/png": "[encoded data removed]",
      "text/plain": [
       "<Figure size 432x288 with 1 Axes>"
      ]
     },
     "metadata": {
      "tags": []
     },
     "output_type": "display_data"
    }
   ],
   "source": [
    "tmp = train['pre_DAYS_LAST_DUE']\n",
    "tmp.replace(365243, np.NaN, inplace=True)\n",
    "plt.hist([tmp[train['TARGET']==0], tmp[train['TARGET']==1]], label=[0,1], density=True)\n",
    "plt.legend()\n",
    "plt.show()\n",
    "del tmp"
   ]
  },
  {
   "cell_type": "code",
   "execution_count": null,
   "metadata": {
    "colab": {
     "base_uri": "https://localhost:8080/"
    },
    "colab_type": "code",
    "executionInfo": {
     "elapsed": 3318,
     "status": "ok",
     "timestamp": 1582104295273,
     "user": {
      "displayName": "Elias Baumann",
      "photoUrl": "https://lh3.googleusercontent.com/a-/AAuE7mDAHZwh9LGaRNOi1RYpuOWYQCxx_o7iVGHtBC29Eg=s64",
      "userId": "16949006271748472642"
     },
     "user_tz": -60
    },
    "id": "eBG1BYwQAIxa",
    "outputId": "a54d602d-8bfb-4ae6-f896-7dfaf346800c"
   },
   "outputs": [
    {
     "data": {
      "image/png": "[encoded data removed]",
      "text/plain": [
       "<Figure size 432x288 with 1 Axes>"
      ]
     },
     "metadata": {
      "tags": []
     },
     "output_type": "display_data"
    }
   ],
   "source": [
    "plt.hist([train['pre_DAYS_DECISION'][train['TARGET']==0],train['pre_DAYS_DECISION'][train['TARGET']==1]], label=[0,1], density=True)\n",
    "plt.legend()\n",
    "plt.show()"
   ]
  },
  {
   "cell_type": "code",
   "execution_count": null,
   "metadata": {
    "colab": {
     "base_uri": "https://localhost:8080/"
    },
    "colab_type": "code",
    "executionInfo": {
     "elapsed": 3216,
     "status": "ok",
     "timestamp": 1582104298128,
     "user": {
      "displayName": "Elias Baumann",
      "photoUrl": "https://lh3.googleusercontent.com/a-/AAuE7mDAHZwh9LGaRNOi1RYpuOWYQCxx_o7iVGHtBC29Eg=s64",
      "userId": "16949006271748472642"
     },
     "user_tz": -60
    },
    "id": "Y4FDJUvnASHq",
    "outputId": "9ebcc7c9-3535-49ec-d856-a8a16932e42b"
   },
   "outputs": [
    {
     "data": {
      "image/png": "[encoded data removed]",
      "text/plain": [
       "<Figure size 432x288 with 1 Axes>"
      ]
     },
     "metadata": {
      "tags": []
     },
     "output_type": "display_data"
    }
   ],
   "source": [
    "plt.hist([train['pre_CNT_PAYMENT'][train['TARGET']==0],train['pre_CNT_PAYMENT'][train['TARGET']==1]], label=[0,1], density=True)\n",
    "plt.legend()\n",
    "plt.show()"
   ]
  },
  {
   "cell_type": "markdown",
   "metadata": {
    "colab_type": "text",
    "id": "SGveg-SeKNaT"
   },
   "source": [
    "### Bureau"
   ]
  },
  {
   "cell_type": "code",
   "execution_count": null,
   "metadata": {
    "colab": {
     "base_uri": "https://localhost:8080/"
    },
    "colab_type": "code",
    "executionInfo": {
     "elapsed": 1911,
     "status": "ok",
     "timestamp": 1582104299671,
     "user": {
      "displayName": "Elias Baumann",
      "photoUrl": "https://lh3.googleusercontent.com/a-/AAuE7mDAHZwh9LGaRNOi1RYpuOWYQCxx_o7iVGHtBC29Eg=s64",
      "userId": "16949006271748472642"
     },
     "user_tz": -60
    },
    "id": "4dLfxH7NKPpb",
    "outputId": "bc43849b-6a41-4805-b05f-3a65b3d6fc42"
   },
   "outputs": [
    {
     "data": {
      "image/png": "[encoded data removed]",
      "text/plain": [
       "<Figure size 288x288 with 1 Axes>"
      ]
     },
     "metadata": {
      "tags": []
     },
     "output_type": "display_data"
    }
   ],
   "source": [
    "# Selected some variables\n",
    "correlation = train[['bur_DAYS_CREDIT','bur_CREDIT_DAY_OVERDUE','bur_AMT_CREDIT_SUM','bur_AMT_ANNUITY','bur_DAYS_CREDIT_UPDATE','bur_DAYS_CREDIT_ENDDATE','TARGET']].corr()\n",
    "plt.matshow(correlation)\n",
    "plt.show()\n",
    "del correlation"
   ]
  },
  {
   "cell_type": "code",
   "execution_count": null,
   "metadata": {
    "colab": {
     "base_uri": "https://localhost:8080/"
    },
    "colab_type": "code",
    "executionInfo": {
     "elapsed": 3652,
     "status": "ok",
     "timestamp": 1582104304127,
     "user": {
      "displayName": "Elias Baumann",
      "photoUrl": "https://lh3.googleusercontent.com/a-/AAuE7mDAHZwh9LGaRNOi1RYpuOWYQCxx_o7iVGHtBC29Eg=s64",
      "userId": "16949006271748472642"
     },
     "user_tz": -60
    },
    "id": "ei3mIcTgUWMg",
    "outputId": "839a0e87-b8b0-4bfc-c9b6-dcb1c577b3c9"
   },
   "outputs": [
    {
     "data": {
      "image/png": "[encoded data removed]",
      "text/plain": [
       "<Figure size 432x288 with 1 Axes>"
      ]
     },
     "metadata": {
      "tags": []
     },
     "output_type": "display_data"
    }
   ],
   "source": [
    "plt.hist([train['bur_DAYS_CREDIT'][train['TARGET']==0],train['bur_DAYS_CREDIT'][train['TARGET']==1]], label=[0,1], density=True)\n",
    "plt.legend()\n",
    "plt.show()"
   ]
  },
  {
   "cell_type": "code",
   "execution_count": null,
   "metadata": {
    "colab": {
     "base_uri": "https://localhost:8080/"
    },
    "colab_type": "code",
    "executionInfo": {
     "elapsed": 4276,
     "status": "ok",
     "timestamp": 1582104307401,
     "user": {
      "displayName": "Elias Baumann",
      "photoUrl": "https://lh3.googleusercontent.com/a-/AAuE7mDAHZwh9LGaRNOi1RYpuOWYQCxx_o7iVGHtBC29Eg=s64",
      "userId": "16949006271748472642"
     },
     "user_tz": -60
    },
    "id": "5JReb0YmUeTe",
    "outputId": "8bc55748-15ba-47f9-bef7-6edf826cc0b3"
   },
   "outputs": [
    {
     "data": {
      "image/png": "[encoded data removed]",
      "text/plain": [
       "<Figure size 432x288 with 1 Axes>"
      ]
     },
     "metadata": {
      "tags": []
     },
     "output_type": "display_data"
    }
   ],
   "source": [
    "plt.hist([train['bur_AMT_CREDIT_SUM'][train['TARGET']==0],train['bur_AMT_CREDIT_SUM'][train['TARGET']==1]], label=[0,1], density=True, log=True)\n",
    "plt.legend()\n",
    "plt.show()"
   ]
  },
  {
   "cell_type": "code",
   "execution_count": null,
   "metadata": {
    "colab": {
     "base_uri": "https://localhost:8080/"
    },
    "colab_type": "code",
    "executionInfo": {
     "elapsed": 5131,
     "status": "ok",
     "timestamp": 1582104310713,
     "user": {
      "displayName": "Elias Baumann",
      "photoUrl": "https://lh3.googleusercontent.com/a-/AAuE7mDAHZwh9LGaRNOi1RYpuOWYQCxx_o7iVGHtBC29Eg=s64",
      "userId": "16949006271748472642"
     },
     "user_tz": -60
    },
    "id": "hoL-bRfUVsSP",
    "outputId": "4d88f41f-885c-47c1-8e0a-ea246ec1ee5e"
   },
   "outputs": [
    {
     "data": {
      "image/png": "[encoded data removed]",
      "text/plain": [
       "<Figure size 432x288 with 1 Axes>"
      ]
     },
     "metadata": {
      "tags": []
     },
     "output_type": "display_data"
    }
   ],
   "source": [
    "plt.hist([train['bur_DAYS_CREDIT_ENDDATE'][train['TARGET']==0],train['bur_DAYS_CREDIT_ENDDATE'][train['TARGET']==1]], label=[0,1], density=True, log=True)\n",
    "plt.legend()\n",
    "plt.show()"
   ]
  },
  {
   "cell_type": "markdown",
   "metadata": {
    "colab_type": "text",
    "id": "_ITWx_XyxtLS"
   },
   "source": [
    "Ok, that should be enough plotting for now. Did you produce any meaningful findings? Any clues which variables matter the most and which source of data is most relevant? Any evidence of outliers, data errors or the like? These are examples of the type of questions EDA is meant to answer.\n",
    "\n",
    "## Data preparation\n",
    "\n",
    "Now that you have created the dataset and have a good understanding of it, it is time to prepare the data for the binary classification task. Likely, while trying to find relevant variables, you already noticed some issues with the data. In this sub-task, we will deal with those issues. First of all, we store the target variable of the train dataset in a separate dataframe and delete it from the train dataset. This allows us to combine the train and test dataframes, which, in turn, is useful because we want to apply operations such as imputing missing values or scaling the values of a variable to the training and the test data. "
   ]
  },
  {
   "cell_type": "code",
   "execution_count": null,
   "metadata": {
    "colab": {},
    "colab_type": "code",
    "id": "hRudopX9-A2W"
   },
   "outputs": [],
   "source": [
    "# Extract the target variable from the training data and save it for later in a seperate dataframe\n",
    "# Next, remove the target variable from the dataframe storing the training data\n",
    "# Finally, create one large dataframe that stores both the training and test data\n",
    "y = train[[\"SK_ID_CURR\", \"TARGET\"]]\n",
    "y = y.groupby('SK_ID_CURR', as_index=False).first()\n",
    "del train[\"TARGET\"]\n",
    "data = train.append(test, ignore_index=True)\n",
    "del train, test"
   ]
  },
  {
   "cell_type": "markdown",
   "metadata": {
    "colab_type": "text",
    "id": "DNPcAoIyGY6a"
   },
   "source": [
    "By the way, before moving on, are you sure you solved the previous task? \n",
    "\n",
    "For those credit applicants that were part of the training set, you extracted the value of the target variable. Check. \n",
    "\n",
    "Then you added the data from the applicants that formed the test data to the training data. Check. \n",
    "\n",
    "So now you have one combined dataframe with all information on credit applicants (i.e., their variables) and another dataframe or vector that stores the target variable. \n",
    "\n",
    "Ok, sounds good. But to make sure your code is ready for subsequent tasks, check whether your solution would, in theory, allow you to revert these steps. You certainly remember our friend Eve. Eve was an applicant who appeared in the training data. We do know the true value of the target variable for Eve. After extracting the target variable from the training dataframe, would you still be able to tell the value of the target variable of Eve? And would you also be able to do so if we, for some reason, randomly permute the rows in the dataframe? \n",
    "\n",
    "If yes all is well. You can move on even if unsure but note that you may have to come back to the previous operation later and revisit the way in which you extracted the target variable from the training set.\n",
    "\n",
    "One other point before moving on. How many observations (rows) do you have in the dataframe storing the target variable? We have 307511 credit applications in the training data so your answer should be 307511, right? I bet you get a different result when checking. What has happened and how can this be overcome? How to make sure that you have exactly 307511 values of the target variable? And are able to connect these values to the original credit applications? (Machine learners') Life is hard at times. "
   ]
  },
  {
   "cell_type": "markdown",
   "metadata": {
    "colab_type": "text",
    "id": "0M770NGkyJYu"
   },
   "source": [
    "### Time / Date based variables\n",
    "\n",
    "Some variables in the data set represent time information, such as the age of a credit applicant (app_DAYS_BIRTH). Examine the way in which this information is stored. You could, for example, consider a histogram or simply check the value range of the variable. "
   ]
  },
  {
   "cell_type": "code",
   "execution_count": null,
   "metadata": {
    "colab": {
     "base_uri": "https://localhost:8080/",
     "height": 336
    },
    "colab_type": "code",
    "executionInfo": {
     "elapsed": 2893,
     "status": "ok",
     "timestamp": 1582820320775,
     "user": {
      "displayName": "Stefan Lessmann",
      "photoUrl": "https://lh3.googleusercontent.com/a-/AAuE7mCKZH0fFnuEStM6yZiXF-j1YmQDSOa5-mEYXknC=s64",
      "userId": "06342662613942148717"
     },
     "user_tz": -60
    },
    "id": "EcVkaVlEiGs4",
    "outputId": "0a780d6c-34cd-4e1f-f67c-95a60e14f8fd"
   },
   "outputs": [
    {
     "name": "stdout",
     "output_type": "stream",
     "text": [
      "Mean:-16577.32802719315\n",
      "Min:-25229\n",
      "Max:-7338\n"
     ]
    },
    {
     "data": {
      "image/png": "[encoded data removed]",
      "text/plain": [
       "<Figure size 432x288 with 1 Axes>"
      ]
     },
     "metadata": {
      "tags": []
     },
     "output_type": "display_data"
    }
   ],
   "source": [
    "# Depict the distribution of the variable 'app_DAYS_BIRTH'\n",
    "data.hist(column='app_DAYS_BIRTH')\n",
    "print('Mean:' + str(data['app_DAYS_BIRTH'].mean()))\n",
    "print('Min:' + str(data['app_DAYS_BIRTH'].min()))\n",
    "print('Max:' + str(data['app_DAYS_BIRTH'].max()))\n"
   ]
  },
  {
   "cell_type": "markdown",
   "metadata": {
    "colab_type": "text",
    "id": "gMGnWMEZiG3T"
   },
   "source": [
    "You will have noticed that all entries for the variable are negative. It is common practice to store time-related information in such a way, e.g., the number of days that have past since some reference date. However, for data analysis, this format is less suitable. Your next task is to convert time information into a more useful format. This should be done for each variable that stores time related information. However, for simplicity we will only do the following:\n",
    "1. Identify variables that store time information\n",
    "1. Convert the values stored in those variables to positive numbers\n",
    "1. Calculate the age of an applicant in years and store it in a new variable *app_AGE_YEARS* "
   ]
  },
  {
   "cell_type": "code",
   "execution_count": null,
   "metadata": {
    "colab": {},
    "colab_type": "code",
    "id": "7JL-yBtny9-a"
   },
   "outputs": [],
   "source": [
    "# Solutions to the three steps:\n",
    "# 1. Determine relevant variables\n",
    "day_vars =['app_DAYS_BIRTH', 'app_DAYS_EMPLOYED',\n",
    "           'app_DAYS_REGISTRATION', 'app_DAYS_ID_PUBLISH',\n",
    "           'pre_DAYS_DECISION', \n",
    "           'pre_DAYS_FIRST_DUE', \n",
    "           'pre_DAYS_LAST_DUE', 'pre_DAYS_TERMINATION',\n",
    "           'bur_DAYS_CREDIT', 'bur_CREDIT_DAY_OVERDUE',\n",
    "           'bur_DAYS_CREDIT_ENDDATE', \n",
    "           'bur_DAYS_CREDIT_UPDATE']"
   ]
  },
  {
   "cell_type": "code",
   "execution_count": null,
   "metadata": {
    "colab": {},
    "colab_type": "code",
    "id": "eGAT9G8bzKfo"
   },
   "outputs": [],
   "source": [
    "# 2. Convert all days_vars to positive numbers\n",
    "data[day_vars] = np.abs(data[day_vars])"
   ]
  },
  {
   "cell_type": "code",
   "execution_count": null,
   "metadata": {
    "colab": {},
    "colab_type": "code",
    "id": "PLPsqX_E2SM2"
   },
   "outputs": [],
   "source": [
    "# 3. Calculate age of applicant (ignore leap years for simnplicity)\n",
    "data['app_AGE_YEARS'] = data['app_DAYS_BIRTH'] // 365"
   ]
  },
  {
   "cell_type": "markdown",
   "metadata": {
    "colab_type": "text",
    "id": "xTkj1kp808Vc"
   },
   "source": [
    "### Numerical variables\n",
    "Information is often stored as a numerical variable. The variables you processed above are an example. The age of an applicant is a numerical variable. Likewise, a credit score, an applicant's income, the amount of a loan, etc. are numerical variables.\n",
    "\n",
    "Often, the scale of numerical variables varies substantially. A variable may also exhibit extreme values (i.e., outliers), which can cause problems. In this sub-task, you have to make choices concerning handling potential outliers.\n",
    "Try to find all numerical variables and apply outlier detection. Box-Plots are always a helpful tool to check for outliers, however there might be other (more automatic) strategies to handle outliers.\n",
    "\n",
    "The definition what value constitutes an outlier is somewhat subjective. Make a sensible decision and replace outliers by a missing-value."
   ]
  },
  {
   "cell_type": "code",
   "execution_count": null,
   "metadata": {
    "colab": {},
    "colab_type": "code",
    "id": "g9s-gFAH30l4"
   },
   "outputs": [],
   "source": [
    "# Detect outliers within numeric variables and replace them with a missing value\n",
    "numerics = ['int16', 'int32', 'int64', 'float16', 'float32', 'float64']\n",
    "numeric_cols = list(data.select_dtypes(include=numerics).columns)\n",
    "numeric_cols = [x for x in numeric_cols if 'FLAG' not in x and x not in ['SK_ID_CURR','pre_SK_ID_PREV','bur_SK_ID_BUREAU']]\n",
    "\n",
    "# calculate z-score for every col, remove values greater 2 standard deviations -> this can also be done with scipy.stats zscore\n",
    "for col in numeric_cols:\n",
    "  data[col].mask(data[col].sub(data[col].mean()).div(data[col].std()).abs().gt(2), other=np.NaN, inplace=True, try_cast=True)"
   ]
  },
  {
   "cell_type": "markdown",
   "metadata": {
    "colab_type": "text",
    "id": "FZeh1eBenBM3"
   },
   "source": [
    "#### Memory Management\n",
    "\n",
    "With larger datasets, it is common to run into memory issues. Recent versions of Pandas (i.e., Pandas 1.x) are maybe are bit more robust but in general, it is good practice to pay attention to memory consumption. An easy way to free up memory is to convert binary variables, also called FLAG variables, to a small integer type and to reduce the float size of the other numeric variables. \n",
    "\n",
    "Make sure you fully understand the following code. Note how it helps with reducing the amount of consumed memory. If the code looks somewhat familiar you are correct. The data integration notebook uses a similar approach. Well spotted."
   ]
  },
  {
   "cell_type": "code",
   "execution_count": null,
   "metadata": {
    "colab": {
     "base_uri": "https://localhost:8080/",
     "height": 90
    },
    "colab_type": "code",
    "executionInfo": {
     "elapsed": 32339,
     "status": "ok",
     "timestamp": 1582820856971,
     "user": {
      "displayName": "Stefan Lessmann",
      "photoUrl": "https://lh3.googleusercontent.com/a-/AAuE7mCKZH0fFnuEStM6yZiXF-j1YmQDSOa5-mEYXknC=s64",
      "userId": "06342662613942148717"
     },
     "user_tz": -60
    },
    "id": "6wZOM9AUnBMn",
    "outputId": "0400c247-7e92-465d-e015-7a1a7a2ba076"
   },
   "outputs": [
    {
     "name": "stdout",
     "output_type": "stream",
     "text": [
      "Memory use before cleaning up:\n",
      "3642 MB\n",
      "Memory use after  cleaning up:\n",
      "2941 MB\n"
     ]
    }
   ],
   "source": [
    "# Print the amount of memory your notebook is currently using\n",
    "print('Memory use before cleaning up:')\n",
    "print(str(data.memory_usage(index=True, deep=True).sum()//1024//1024)+' MB')\n",
    "\n",
    "floats = [x for x in data.columns if data[x].dtype in ['float16', 'float32', 'float64']]\n",
    "data[floats] = data[floats].astype('float32')\n",
    "flags = [x for x in data.columns if 'FLAG' in x]\n",
    "\n",
    "data[flags] = data[flags].astype('int8')\n",
    "\n",
    "print('Memory use after  cleaning up:')\n",
    "print(str(data.memory_usage(index=True, deep=True).sum()//1024//1024)+' MB')"
   ]
  },
  {
   "cell_type": "markdown",
   "metadata": {
    "colab_type": "text",
    "id": "1S-oMpXc4AJu"
   },
   "source": [
    "### Categorical variables\n",
    "\n",
    "Another important type of variables are categorical variables. These are variables that  do not have an explicit numeric meaning but represent different categories or classes. An example for a categorical variable could be the occupation of a person (e.g. Student, Factory-worker, Accountant...). Each category level provides information about a person but you cannot transfer the different occupations into a numeric space. Some algorithm implementations have built-in functions to deal with categories. Typically, however, this is your job. In this sub-task, we will use one-hot encoding (also referenced as dummy encoding) where every class becomes a binary variable. For more information read e.g. [this post](https://towardsdatascience.com/one-hot-encoding-multicollinearity-and-the-dummy-variable-trap-b5840be3c41a).\n",
    "\n",
    "Before performing the actual coding operations, however, we need to attend to one issue in our data. You have probably not noticed it but three variables have changed their data type from category to object when we combined the training and test data. Feel free to diagnose why his happened if you are interested. It has to do with different category levels in the training and test set. Without going into details, we want to convert the affected variables back to data type categorical. So determine which variables are stored as data type object, verify that these variables are indeed categorical variables and convert them to data type category before moving on. "
   ]
  },
  {
   "cell_type": "code",
   "execution_count": null,
   "metadata": {
    "colab": {
     "base_uri": "https://localhost:8080/",
     "height": 54
    },
    "colab_type": "code",
    "executionInfo": {
     "elapsed": 2169,
     "status": "ok",
     "timestamp": 1582821941486,
     "user": {
      "displayName": "Stefan Lessmann",
      "photoUrl": "https://lh3.googleusercontent.com/a-/AAuE7mCKZH0fFnuEStM6yZiXF-j1YmQDSOa5-mEYXknC=s64",
      "userId": "06342662613942148717"
     },
     "user_tz": -60
    },
    "id": "kvMl7G8fwLCf",
    "outputId": "ace462fb-c633-404f-efca-b0c6404545b0"
   },
   "outputs": [
    {
     "name": "stdout",
     "output_type": "stream",
     "text": [
      "Variables of type object in our data frame:\n",
      "Index(['app_CODE_GENDER', 'app_NAME_INCOME_TYPE'], dtype='object')\n"
     ]
    }
   ],
   "source": [
    "# Identify variables of data type object and convert these to data type category\n",
    "print('Variables of type object in our data frame:')\n",
    "print(data.select_dtypes(include='object').columns)\n",
    "\n",
    "obj_cols = data.select_dtypes(include='object').columns\n",
    "data[obj_cols] = data[obj_cols].astype('category')"
   ]
  },
  {
   "cell_type": "markdown",
   "metadata": {
    "colab_type": "text",
    "id": "j0cr78TxweGj"
   },
   "source": [
    "At this point, your data set should include 24 categorical variables. Verify this is the case, Then transform the categorical variables using dummy coding. There is a nice function to do so with just one line of code. \n",
    "\n",
    "Make sure to apply reference coding. For example, if you have a categorical variable with three levels: red, green, blue you need only 3-1=2 two dummy variables to encode the information of the category as, e.g., isRed {0,1}, isGreen {0,1}. If both dummies are equal to zero, this implies that the category level of the observation before dummy coding was blue. In other words, you do not need a third dummy variable isBlue {0,1} to encode the category. Using n-1 dummy variables, with n denoting the number of category levels, is called reference coding."
   ]
  },
  {
   "cell_type": "code",
   "execution_count": null,
   "metadata": {
    "colab": {
     "base_uri": "https://localhost:8080/",
     "height": 72
    },
    "colab_type": "code",
    "executionInfo": {
     "elapsed": 12816,
     "status": "ok",
     "timestamp": 1582822004306,
     "user": {
      "displayName": "Stefan Lessmann",
      "photoUrl": "https://lh3.googleusercontent.com/a-/AAuE7mCKZH0fFnuEStM6yZiXF-j1YmQDSOa5-mEYXknC=s64",
      "userId": "06342662613942148717"
     },
     "user_tz": -60
    },
    "id": "eYmTqyeaKt_1",
    "outputId": "f63e4abf-6db0-4929-f10a-5191f6cfa4a3"
   },
   "outputs": [
    {
     "name": "stdout",
     "output_type": "stream",
     "text": [
      "Number of categories is: 24\n",
      "Number of columns is: 67\n"
     ]
    },
    {
     "data": {
      "text/plain": [
       "(9674201, 274)"
      ]
     },
     "execution_count": 38,
     "metadata": {
      "tags": []
     },
     "output_type": "execute_result"
    }
   ],
   "source": [
    "# Do you have 24 categorical variables? Check. \n",
    "print('Number of categories is: ' + str(data.select_dtypes(include='category').shape[1]))\n",
    "# Also print the total number of columns in your data\n",
    "print('Number of columns is: ' + str(data.shape[1]))\n",
    "# Encode categories as dummy variables and check again how many columns you have in your data\n",
    "data = pd.get_dummies(data, drop_first=True) \n",
    "data.shape\n"
   ]
  },
  {
   "cell_type": "markdown",
   "metadata": {
    "colab_type": "text",
    "id": "_7oXk4d30ECx"
   },
   "source": [
    "Did you notice the sharp increase in dimensionality? This is the disadvantage of dummy coding. In practice, we would need to process categories in a more elaborate way to avoid creating so many new dummy variables. If you are interested, have a look at [this paper](http://dx.doi.org/10.1016/j.dss.2015.02.007) to learn about alternative, better options."
   ]
  },
  {
   "cell_type": "markdown",
   "metadata": {
    "colab_type": "text",
    "id": "jtLljOzsS5EL"
   },
   "source": [
    "### Missing Values\n",
    "\n",
    "Another common issue in real world data are missing values. For different reasons, data may be incomplete. Many state-of-the-art implementations of machine learning algorithms have built-in algorithms to deal with missing values. However, this task will have you deal with them yourself.\n",
    "\n",
    "The two major paths to take here are either:\n",
    "- To drop the rows and/or columns with missing values\n",
    "- To impute the missing values\n",
    "\n",
    "To get an idea on the different possible approaches, read e.g.: [this](https://medium.com/ibm-data-science-experience/missing-data-conundrum-exploration-and-imputation-techniques-9f40abe0fd87)\n",
    "\n",
    "Scikit learn offers a good imputation algorithm that might also be helpful: [Sklearn Imputation](https://scikit-learn.org/stable/modules/impute.html). \n",
    "\n",
    "Try to deal with all missing values in the dataset applying the strategies of your choice.\n",
    "\n",
    "**Warning:** The data set is large, as is common practice in machine learning. You will most likely experience problems with memory errors and need to think carefully how you can perform calculations in an efficient manner."
   ]
  },
  {
   "cell_type": "code",
   "execution_count": null,
   "metadata": {
    "colab": {},
    "colab_type": "code",
    "id": "6HDq_InfUNVR"
   },
   "outputs": [],
   "source": [
    "num_cols = [x for x in data.columns if data[x].dtype in ['float32','float64','int64','int32']]\n",
    "num_data = data[num_cols].copy()\n",
    "oh_data = data[[x for x in data.columns if data[x].dtype in ['int8','uint8']]].copy()\n",
    "del data"
   ]
  },
  {
   "cell_type": "code",
   "execution_count": null,
   "metadata": {
    "colab": {},
    "colab_type": "code",
    "id": "I4Hjk_ziUOhK"
   },
   "outputs": [],
   "source": [
    "# This is rather poor but needed as the session would crash otherwise\n",
    "num1,num2,num3,num4 = np.array_split(num_data,4)\n",
    "del num_data"
   ]
  },
  {
   "cell_type": "code",
   "execution_count": null,
   "metadata": {
    "colab": {},
    "colab_type": "code",
    "id": "h3jvuwMWTYEA"
   },
   "outputs": [],
   "source": [
    "from sklearn.impute import SimpleImputer\n",
    "imp = SimpleImputer(missing_values=np.nan, strategy='most_frequent')\n",
    "\n",
    "num1 = imp.fit_transform(num1)\n",
    "num2 = imp.fit_transform(num2)\n",
    "num3 = imp.fit_transform(num3)\n",
    "num4 = imp.fit_transform(num4)"
   ]
  },
  {
   "cell_type": "code",
   "execution_count": null,
   "metadata": {
    "colab": {},
    "colab_type": "code",
    "id": "COXJW-oNUXFO"
   },
   "outputs": [],
   "source": [
    "num_data = pd.DataFrame(np.concatenate([num1,num2,num3,num4]), columns=num_cols)\n",
    "del num1,num2,num3,num4"
   ]
  },
  {
   "cell_type": "code",
   "execution_count": null,
   "metadata": {
    "colab": {},
    "colab_type": "code",
    "id": "K706qYo6ezze"
   },
   "outputs": [],
   "source": [
    "#data = pd.concat([idx_cols, num_data,oh_data], axis=1)\n",
    "#del num_data, oh_data, idx_cols\n",
    "data = pd.concat([num_data,oh_data], axis=1)\n",
    "del num_data, oh_data"
   ]
  },
  {
   "cell_type": "code",
   "execution_count": null,
   "metadata": {
    "colab": {},
    "colab_type": "code",
    "id": "7UX3bG2t9BAC"
   },
   "outputs": [],
   "source": [
    "float_cols = list(data.select_dtypes(include='float64').columns)\n",
    "data[float_cols] = data[float_cols].astype(np.float32)"
   ]
  },
  {
   "cell_type": "markdown",
   "metadata": {
    "colab_type": "text",
    "id": "8fcDXeAuCXoM"
   },
   "source": [
    "The above steps have probably taken you some time. To make sure that you do not need to repeat them if something goes wrong in subsequent tasks (e.g., crashing your notebook), you should save your data at this point. The below code illustrates how but note that you might have to adjust the code because of you using different names for variables, different folder paths, etc. In the demo code, the relevant variables are called *data* and *y* and they store the data on credit applicants and target variables, respectively."
   ]
  },
  {
   "cell_type": "code",
   "execution_count": null,
   "metadata": {
    "colab": {},
    "colab_type": "code",
    "id": "U2el9YzHq87Y"
   },
   "outputs": [],
   "source": [
    "#Save data to disk\n",
    "data.to_hdf('data_pp.h5', key='data', mode='w')\n",
    "y.to_hdf('data_pp.h5', key='y')"
   ]
  },
  {
   "cell_type": "markdown",
   "metadata": {
    "colab_type": "text",
    "id": "lJ1115w4C4jY"
   },
   "source": [
    "So from here onwards, we could load the preprocessed data and continue working with it. If you use colab, you should also download the h5 file created above to store it permanently on your hard disk or a cloud drive."
   ]
  },
  {
   "cell_type": "code",
   "execution_count": null,
   "metadata": {
    "colab": {},
    "colab_type": "code",
    "id": "pNC1eJJh7SfE"
   },
   "outputs": [],
   "source": [
    "# You can use this point to re-load the data if somethings goes wrong.\n",
    "# Simply un-comment the below lines if you actually want to load data\n",
    "# but note that the code needs adjustment to match your folder path and\n",
    "# variable names\n",
    "\n",
    "#y = pd.read_hdf('data_pp.h5', key='y')\n",
    "#data = pd.read_hdf('data_pp.h5', key='data')\n",
    "#!cp 'data_pp.h5' '/content/drive/My Drive/data_pp.h5' "
   ]
  },
  {
   "cell_type": "markdown",
   "metadata": {
    "colab_type": "text",
    "id": "ExPrbcUsU6qS"
   },
   "source": [
    "### Feature Engineering\n",
    "\n",
    "Algorithms can detect many patterns in data. However, algorithms lack domain knowledge. Feature engineering is the most time consuming and one of the most important tasks in machine learning. It is all about transforming variables in such a way that finding relevant patters in data becomes easier for the algorithm. \n",
    "\n",
    "There are a number of basic transformation to enhance the informational value of a variable including, for example: \n",
    "- Logarithm\n",
    "- Multiplications / Ratios\n",
    "- Aggregations (Min, Max, Mode, Mean, Unique count, Sum, ...) \n",
    "\n",
    "The 'holy grail', however, is to create new features based on domain knowledge. This could involve, for example, combining multiple variables into a single variable by calculating ratios, moving averages, etc. In this task, you should try to create variables representing the following information:\n",
    "\n",
    "- A credit/income ratio\n",
    "- An annuity/income ratio\n",
    "- How much of their life a person has worked\n",
    "- How long the credit will run for until its paid off (Is this correct??)\n",
    "- A ratio on how much credit was given compared to for what a person applied for\n",
    "- Number of previous applications\n",
    "- Previous acceptance ratio\n",
    "- Number of Active, Bad and Closed loans \n",
    "\n",
    "Later on, you can try to come up with yet more interesting or powerful variables to improve your analytical model."
   ]
  },
  {
   "cell_type": "code",
   "execution_count": null,
   "metadata": {
    "colab": {},
    "colab_type": "code",
    "id": "ol6STmfXWISM"
   },
   "outputs": [],
   "source": [
    "# Write code to create the above features. \n",
    "# Feel free to also engineer additional features\n",
    "merge_later = []\n",
    "\n",
    "# Application:\n",
    "data['app_ANNUITY_LENGTH'] = data.app_AMT_CREDIT / data.app_AMT_ANNUITY\n",
    "data['app_EXT_SOURCE_MEAN'] = data[['app_EXT_SOURCE_1', 'app_EXT_SOURCE_2', 'app_EXT_SOURCE_3']].mean(axis = 1)\n",
    "data['app_PERCENT_WORKED'] = data['app_DAYS_EMPLOYED'] / data['app_DAYS_BIRTH']\n",
    "data['app_CREDIT_BY_INCOME'] = data['app_AMT_CREDIT'] / data['app_AMT_INCOME_TOTAL']\n",
    "data['app_ANNUITY_BY_INCOME'] = data['app_AMT_ANNUITY'] / data['app_AMT_INCOME_TOTAL']"
   ]
  },
  {
   "cell_type": "code",
   "execution_count": null,
   "metadata": {
    "colab": {},
    "colab_type": "code",
    "id": "lPT8hJsZB9uO"
   },
   "outputs": [],
   "source": [
    "# Prev:\n",
    "data[\"prev_GIVEN_RATIO\"]  = data[\"pre_AMT_CREDIT\"] / data[\"pre_AMT_APPLICATION\"]\n",
    "cnt_prev = data[[\"SK_ID_CURR\", \"pre_SK_ID_PREV\"]].groupby([\"SK_ID_CURR\"], as_index = False).count()\n",
    "cnt_prev.columns = [\"SK_ID_CURR\", \"pre_CNT_PREV_APPLICATIONS\"]\n",
    "merge_later.append(cnt_prev)\n",
    "contract_status = data[['SK_ID_CURR','pre_SK_ID_PREV','pre_NAME_CONTRACT_STATUS_Canceled', 'pre_NAME_CONTRACT_STATUS_Refused', 'pre_NAME_CONTRACT_STATUS_Unused offer']].copy()\n",
    "contract_status['accepted'] = np.int8(np.logical_not(data[['pre_NAME_CONTRACT_STATUS_Canceled', 'pre_NAME_CONTRACT_STATUS_Refused', ]].any(axis=1)))\n",
    "contract_status = contract_status[[\"SK_ID_CURR\",\"accepted\"]].groupby([\"SK_ID_CURR\"], as_index=False).mean()\n",
    "contract_status.columns = [\"SK_ID_CURR\",\"pre_ACCEPTANCE_RATIO\"]\n",
    "merge_later.append(contract_status)\n",
    "del data['pre_NAME_CONTRACT_STATUS_Unused offer'], "
   ]
  },
  {
   "cell_type": "code",
   "execution_count": null,
   "metadata": {
    "colab": {},
    "colab_type": "code",
    "id": "szYi7uu3CC5I"
   },
   "outputs": [],
   "source": [
    "# Bureau:\n",
    "del data['bur_CREDIT_ACTIVE_Sold'] # is always 0\n",
    "buro_loans = data[['SK_ID_CURR','bur_CREDIT_ACTIVE_Bad debt','bur_CREDIT_ACTIVE_Closed']].copy()\n",
    "buro_loans['active'] = np.int8(np.logical_not(data[['bur_CREDIT_ACTIVE_Bad debt','bur_CREDIT_ACTIVE_Closed']].any(axis=1)))\n",
    "buro_loans = buro_loans[['SK_ID_CURR','active','bur_CREDIT_ACTIVE_Bad debt','bur_CREDIT_ACTIVE_Closed']].groupby([\"SK_ID_CURR\"], as_index=False).sum()\n",
    "buro_loans.columns = [\"SK_ID_CURR\",\"bur_ACTIVE_LOANS\",\"bur_BAD_LOANS\",\"bur_CLOSED_LOANS\"]  \n",
    "merge_later.append(buro_loans)\n",
    "del data['bur_CREDIT_ACTIVE_Bad debt'],data['bur_CREDIT_ACTIVE_Closed'], data['app_DAYS_BIRTH'], data['app_DAYS_EMPLOYED']"
   ]
  },
  {
   "cell_type": "markdown",
   "metadata": {
    "colab_type": "text",
    "id": "eMC8s_FZ2LMm"
   },
   "source": [
    "## Aggregating the data\n",
    "Finally, we come back to the point that our data does not yet has one row per applicant but many rows per applicant. We have elaborated on this issue above. Go back to the part on *Understanding data integration* if feeling a little shaky. \n",
    "\n",
    "The goal of our next task is to obtain a dataframe with exactly that many rows as there are in the original training set (application_training) and original test set (application_test). Remember that the other two data sets concerned with previous credit applications and burea data have rows and that this has amplified the number of observations when merging the data. \n",
    "\n",
    "So your task is to aggregate the data in a 'suitable' way."
   ]
  },
  {
   "cell_type": "code",
   "execution_count": null,
   "metadata": {
    "colab": {},
    "colab_type": "code",
    "id": "9W0p_gKy2Ya8"
   },
   "outputs": [],
   "source": [
    "### aggregate data\n",
    "# split into app_ and pre_,bur_\n",
    "app_cols = ['SK_ID_CURR']+[x for x in data.columns if 'app_' in x]\n",
    "prebur_cols = ['SK_ID_CURR']+[x for x in data.columns if 'bur_' in x or 'pre_' in x]"
   ]
  },
  {
   "cell_type": "code",
   "execution_count": null,
   "metadata": {
    "colab": {},
    "colab_type": "code",
    "id": "bPbzJ3fh_GT2"
   },
   "outputs": [],
   "source": [
    "app_data = data[app_cols].groupby('SK_ID_CURR', as_index=False).first()"
   ]
  },
  {
   "cell_type": "code",
   "execution_count": null,
   "metadata": {
    "colab": {},
    "colab_type": "code",
    "id": "OwW9OrLS9_iI"
   },
   "outputs": [],
   "source": [
    "prebur_data = data[prebur_cols].copy()\n",
    "prebur_data.drop(['pre_SK_ID_PREV','bur_SK_ID_BUREAU'],axis=1, inplace=True)\n",
    "prebur_num_data = prebur_data[[x for x in prebur_data.columns if prebur_data[x].dtype in ['float32','float64','int32','int64']]].copy()\n",
    "prebur_cat_data = prebur_data[['SK_ID_CURR']+[x for x in prebur_data.columns if prebur_data[x].dtype in ['int8','uint8']]].copy()"
   ]
  },
  {
   "cell_type": "code",
   "execution_count": null,
   "metadata": {
    "colab": {},
    "colab_type": "code",
    "id": "m2_6EN489yoN"
   },
   "outputs": [],
   "source": [
    "prebur_num_data = prebur_num_data.groupby(['SK_ID_CURR'], as_index=False).agg([\"mean\",\"std\",\"min\",\"max\"])\n",
    "prebur_cat_data = prebur_cat_data.groupby(['SK_ID_CURR'], as_index=False).agg([\"mean\", \"sum\"]) # TODO maybe remove contract status agg stuff :"
   ]
  },
  {
   "cell_type": "code",
   "execution_count": null,
   "metadata": {
    "colab": {},
    "colab_type": "code",
    "id": "TYvvMcwPUaCq"
   },
   "outputs": [],
   "source": [
    "prebur_num_data.columns = [\"_\".join(x) for x in prebur_num_data.columns.ravel()]\n",
    "prebur_cat_data.columns = [\"_\".join(x) for x in prebur_cat_data.columns.ravel()]\n",
    "prebur_num_data = prebur_num_data.reset_index().rename(columns={prebur_num_data.index.name:'SK_ID_CURR'})\n",
    "prebur_cat_data = prebur_cat_data.reset_index().rename(columns={prebur_cat_data.index.name:'SK_ID_CURR'})"
   ]
  },
  {
   "cell_type": "code",
   "execution_count": null,
   "metadata": {
    "colab": {
     "base_uri": "https://localhost:8080/",
     "height": 74
    },
    "colab_type": "code",
    "executionInfo": {
     "elapsed": 1146,
     "status": "ok",
     "timestamp": 1582822764278,
     "user": {
      "displayName": "Stefan Lessmann",
      "photoUrl": "https://lh3.googleusercontent.com/a-/AAuE7mCKZH0fFnuEStM6yZiXF-j1YmQDSOa5-mEYXknC=s64",
      "userId": "06342662613942148717"
     },
     "user_tz": -60
    },
    "id": "-I2pwlj-3d1r",
    "outputId": "ed71b4b2-3521-4ece-b2d6-71280b6632b5"
   },
   "outputs": [
    {
     "name": "stderr",
     "output_type": "stream",
     "text": [
      "/usr/local/lib/python3.6/dist-packages/pandas/core/reshape/merge.py:617: UserWarning: merging between different levels can give an unintended result (2 levels on the left, 1 on the right)\n",
      "  warnings.warn(msg, UserWarning)\n"
     ]
    }
   ],
   "source": [
    "# add on previously aggregated data\n",
    "for df in merge_later:\n",
    "  prebur_num_data = prebur_num_data.merge(df,on='SK_ID_CURR')"
   ]
  },
  {
   "cell_type": "code",
   "execution_count": null,
   "metadata": {
    "colab": {},
    "colab_type": "code",
    "id": "8b1Tqoqo7vJO"
   },
   "outputs": [],
   "source": [
    "# fill missing in std columns\n",
    "stdevs = prebur_num_data.filter(like = \"_std\").columns\n",
    "for var in stdevs:\n",
    "    prebur_num_data[var].fillna(0, inplace = True)"
   ]
  },
  {
   "cell_type": "markdown",
   "metadata": {
    "colab_type": "text",
    "id": "qy8PTV8J7jMq"
   },
   "source": [
    "### Normalizing numeric features\n",
    "\n",
    "Normalization is applied such that high variable values do not have a higher impact just because their value is high. For example, if we were to include both income and number of children, income will be in the thousands and number of children likely in the one-digits.\n",
    "\n",
    "We held of normalizing features, as we hadn't yet used them to create new features. Now normalize all features by subtracting the mean and dividing by the standard deviation. Run a search for *z-score* for some background information."
   ]
  },
  {
   "cell_type": "code",
   "execution_count": null,
   "metadata": {
    "colab": {},
    "colab_type": "code",
    "id": "2pojR66c3tzF"
   },
   "outputs": [],
   "source": [
    "def standardize(df):\n",
    "  df = df.set_index(keys=['SK_ID_CURR'], drop=True)\n",
    "  df = (df-df.mean())/df.std() # standardization, can be replaced to normalize with (df-df.min())/(df.max()-df.min()) \n",
    "  df = df.reset_index().rename(columns={df.index.name:'SK_ID_CURR'})\n",
    "  return df"
   ]
  },
  {
   "cell_type": "code",
   "execution_count": null,
   "metadata": {
    "colab": {},
    "colab_type": "code",
    "id": "E0BiRuBL2P13"
   },
   "outputs": [],
   "source": [
    "app_data = standardize(app_data) \n",
    "prebur_num_data = standardize(prebur_num_data) \n",
    "prebur_cat_data = standardize(prebur_cat_data) "
   ]
  },
  {
   "cell_type": "code",
   "execution_count": null,
   "metadata": {
    "colab": {
     "base_uri": "https://localhost:8080/",
     "height": 110
    },
    "colab_type": "code",
    "executionInfo": {
     "elapsed": 4451,
     "status": "ok",
     "timestamp": 1582825732379,
     "user": {
      "displayName": "Stefan Lessmann",
      "photoUrl": "https://lh3.googleusercontent.com/a-/AAuE7mCKZH0fFnuEStM6yZiXF-j1YmQDSOa5-mEYXknC=s64",
      "userId": "06342662613942148717"
     },
     "user_tz": -60
    },
    "id": "AuParI5a4I4H",
    "outputId": "01998677-a70d-49a7-d5ca-c87a0ce57cb9"
   },
   "outputs": [
    {
     "name": "stderr",
     "output_type": "stream",
     "text": [
      "/usr/local/lib/python3.6/dist-packages/pandas/core/reshape/merge.py:617: UserWarning: merging between different levels can give an unintended result (1 levels on the left, 2 on the right)\n",
      "  warnings.warn(msg, UserWarning)\n",
      "/usr/local/lib/python3.6/dist-packages/pandas/core/generic.py:3946: PerformanceWarning: dropping on a non-lexsorted multi-index without a level parameter may impact performance.\n",
      "  new_axis = axis.drop(labels, errors=errors)\n"
     ]
    }
   ],
   "source": [
    "data = app_data.merge(prebur_num_data, on='SK_ID_CURR')\n",
    "data = data.merge(prebur_cat_data, on='SK_ID_CURR')"
   ]
  },
  {
   "cell_type": "markdown",
   "metadata": {
    "colab_type": "text",
    "id": "5-NaJOKmWXIG"
   },
   "source": [
    "### Finalizing the preprocessing\n",
    "\n",
    "As a final step, you will have to split the data again into the original train and test set. Splitting the prepared data will allow us to train a model on the training and then apply the model to the test set. To perform the splitting, however,  it will be important that you have stored and maintained relevant ID variables. "
   ]
  },
  {
   "cell_type": "code",
   "execution_count": null,
   "metadata": {
    "colab": {},
    "colab_type": "code",
    "id": "mFqZXVQSpWlw"
   },
   "outputs": [],
   "source": [
    "# Write code to seperate your data into three dataframes.\n",
    "# Eventually, you should have one dataframe containing the cases of the \n",
    "# original training set (application_train), one dataframe containing the\n",
    "# cases of the original test set (application_tests) and one more dataframe\n",
    "# storing the target variable of training set cases. We created the latter\n",
    "# dataframe in a previous task and it should still be available in your \n",
    "# memory.\n",
    "test  = data[data[\"SK_ID_CURR\"].isin(y[\"SK_ID_CURR\"]) == False]\n",
    "label = y['TARGET']"
   ]
  },
  {
   "cell_type": "code",
   "execution_count": null,
   "metadata": {
    "colab": {
     "base_uri": "https://localhost:8080/",
     "height": 54
    },
    "colab_type": "code",
    "executionInfo": {
     "elapsed": 1245,
     "status": "ok",
     "timestamp": 1582825891119,
     "user": {
      "displayName": "Stefan Lessmann",
      "photoUrl": "https://lh3.googleusercontent.com/a-/AAuE7mCKZH0fFnuEStM6yZiXF-j1YmQDSOa5-mEYXknC=s64",
      "userId": "06342662613942148717"
     },
     "user_tz": -60
    },
    "id": "UaCfRFEs4gyK",
    "outputId": "a71884c1-6735-4305-daf7-8f51662e97a9"
   },
   "outputs": [
    {
     "name": "stdout",
     "output_type": "stream",
     "text": [
      "Training dataset shape:  (307511, 475)\n",
      "Test dataset shape:  (48744, 475)\n"
     ]
    }
   ],
   "source": [
    "# Verify that the shapes of your splitted data match original data \n",
    "print(\"Training dataset shape: \",train.shape) # should have 307511 rows\n",
    "print(\"Test dataset shape: \",test.shape) # should have 48744 rows"
   ]
  },
  {
   "cell_type": "code",
   "execution_count": null,
   "metadata": {
    "colab": {},
    "colab_type": "code",
    "id": "Mu6q4b1y45xS"
   },
   "outputs": [],
   "source": [
    "# Save final preprocessed data to easily reload for modeling\n",
    "train.to_hdf('data_fin.h5', key='train', mode='w')\n",
    "test.to_hdf('data_fin.h5', key='test')\n",
    "label.to_hdf('data_fin.h5', key='label')\n",
    "y.to_hdf('data_fin.h5', key='y')"
   ]
  },
  {
   "cell_type": "code",
   "execution_count": null,
   "metadata": {
    "colab": {},
    "colab_type": "code",
    "id": "GzL8kKIO5U_z"
   },
   "outputs": [],
   "source": [
    "# Make sure to permanently store the data if you use colab\n",
    "!cp 'data_fin.h5' '/content/drive/My Drive/ProDok/'"
   ]
  },
  {
   "cell_type": "code",
   "execution_count": null,
   "metadata": {
    "colab": {},
    "colab_type": "code",
    "id": "V5RPpMkC5R2r"
   },
   "outputs": [],
   "source": [
    "# And reload if necessary:\n",
    "train = pd.read_hdf('/content/drive/My Drive/ProDok/data_fin.h5', key='train')\n",
    "test = pd.read_hdf('/content/drive/My Drive/ProDok/data_fin.h5', key='test')\n",
    "label = pd.read_hdf('/content/drive/My Drive/ProDok/data_fin.h5', key='label')"
   ]
  },
  {
   "cell_type": "markdown",
   "metadata": {
    "colab_type": "text",
    "id": "Rjz4ReMUWREo"
   },
   "source": [
    "## Creating the model\n",
    "Now that you successfully prepared the dataset, it is time to create a model for the task. We will return to the logistic regression classifier, which you could experience in the first task of the pre-course assignment.\n",
    "\n",
    "Given that the problem we are trying to solve is a binary classification problem, logistic regression is a good fit.\n",
    "\n",
    "Train a logistic regression on the train part of your dataset. This might fail. In a subsequent step we will evaluate the model and try to come up with a better one."
   ]
  },
  {
   "cell_type": "code",
   "execution_count": null,
   "metadata": {
    "colab": {},
    "colab_type": "code",
    "id": "_eEs12cl7PX1"
   },
   "outputs": [],
   "source": [
    "# Write code to estimate a logistic regression model. \n",
    "# In task 1, you have used the statsmodel library and scikit-learn. I recommend\n",
    "# you now use scikit-learn because the data is large and the scikit-learn \n",
    "# implementation of logistic regression is more efficient. \n",
    "\n",
    "no_id = [x for x in train.columns if x != 'SK_ID_CURR']"
   ]
  },
  {
   "cell_type": "code",
   "execution_count": null,
   "metadata": {
    "colab": {
     "base_uri": "https://localhost:8080/",
     "height": 256
    },
    "colab_type": "code",
    "executionInfo": {
     "elapsed": 42175,
     "status": "ok",
     "timestamp": 1582883623174,
     "user": {
      "displayName": "Stefan Lessmann",
      "photoUrl": "https://lh3.googleusercontent.com/a-/AAuE7mCKZH0fFnuEStM6yZiXF-j1YmQDSOa5-mEYXknC=s64",
      "userId": "06342662613942148717"
     },
     "user_tz": -60
    },
    "id": "fZ1tD0zoXn4u",
    "outputId": "1b0535a1-48d1-491e-8f36-a0b6bc5be696"
   },
   "outputs": [
    {
     "name": "stderr",
     "output_type": "stream",
     "text": [
      "/usr/local/lib/python3.6/dist-packages/sklearn/linear_model/_logistic.py:940: ConvergenceWarning: lbfgs failed to converge (status=1):\n",
      "STOP: TOTAL NO. of ITERATIONS REACHED LIMIT.\n",
      "\n",
      "Increase the number of iterations (max_iter) or scale the data as shown in:\n",
      "    https://scikit-learn.org/stable/modules/preprocessing.html\n",
      "Please also refer to the documentation for alternative solver options:\n",
      "    https://scikit-learn.org/stable/modules/linear_model.html#logistic-regression\n",
      "  extra_warning_msg=_LOGISTIC_SOLVER_CONVERGENCE_MSG)\n"
     ]
    },
    {
     "data": {
      "text/plain": [
       "LogisticRegression(C=1.0, class_weight=None, dual=False, fit_intercept=True,\n",
       "                   intercept_scaling=1, l1_ratio=None, max_iter=200,\n",
       "                   multi_class='auto', n_jobs=None, penalty='none',\n",
       "                   random_state=None, solver='lbfgs', tol=0.0001, verbose=0,\n",
       "                   warm_start=False)"
      ]
     },
     "execution_count": 6,
     "metadata": {
      "tags": []
     },
     "output_type": "execute_result"
    }
   ],
   "source": [
    "from sklearn.linear_model import LogisticRegression\n",
    "model = LogisticRegression(penalty='none', fit_intercept=True, max_iter=200)\n",
    "model.fit(train[no_id], label)"
   ]
  },
  {
   "cell_type": "markdown",
   "metadata": {
    "colab_type": "text",
    "id": "b8AAfPu1Heqy"
   },
   "source": [
    "### Attempting to find the issue with the regression model:\n",
    "So while everything worked fine in the first task, the logit model we train on this data set does not converge. Any ideas why?\n",
    "\n",
    "Multi-collinearity might be a problem because we created such a large data. Try to identify variables that are highly correlated. You can examine different thresholds for *high*. Highly correlated variables should be removed. Do so and try again a estimate the logit model. "
   ]
  },
  {
   "cell_type": "code",
   "execution_count": null,
   "metadata": {
    "colab": {},
    "colab_type": "code",
    "id": "MU3B9zgVIaxi"
   },
   "outputs": [],
   "source": [
    "# Create correlation matrix and identify highly correlated variables\n",
    "# Afterwards, remove one variable of each pair of correlated\n",
    "# variables from the data. Check how many variables you have managed to remove \n",
    "# in this way. You need rather low correlation thresholds to achieve a sizeable\n",
    "# reduction of dimensionality.\n",
    "# Try re-estimating the logit model after removing correlated variables. Note \n",
    "# that will not succeed even if you set the correlation threshold as low as 0.5. \n",
    "# Nonetheless, solving the task to remove correlated variables is a useful \n",
    "# programming exercise. \n",
    "no_id_y = [x for x in train.columns if x not in ['SK_ID_CURR', 'TARGET']]"
   ]
  },
  {
   "cell_type": "code",
   "execution_count": null,
   "metadata": {
    "colab": {},
    "colab_type": "code",
    "id": "mOWjgiyl7uv7"
   },
   "outputs": [],
   "source": [
    "train_corr = train[no_id_y].corr()"
   ]
  },
  {
   "cell_type": "code",
   "execution_count": null,
   "metadata": {
    "colab": {},
    "colab_type": "code",
    "id": "ANMPggzjC4Wa"
   },
   "outputs": [],
   "source": [
    "indices = np.where(train_corr >= .5)\n",
    "indices = [(train_corr.index[x], train_corr.columns[y]) for x, y in zip(*indices) if x != y and x < y]\n",
    "to_drop_inds = [x[1] for x in indices] # arbitrarily choose the second of each pair"
   ]
  },
  {
   "cell_type": "code",
   "execution_count": null,
   "metadata": {
    "colab": {
     "base_uri": "https://localhost:8080/",
     "height": 54
    },
    "colab_type": "code",
    "executionInfo": {
     "elapsed": 1327,
     "status": "ok",
     "timestamp": 1582886310084,
     "user": {
      "displayName": "Stefan Lessmann",
      "photoUrl": "https://lh3.googleusercontent.com/a-/AAuE7mCKZH0fFnuEStM6yZiXF-j1YmQDSOa5-mEYXknC=s64",
      "userId": "06342662613942148717"
     },
     "user_tz": -60
    },
    "id": "ayPeywkiDmWI",
    "outputId": "55cae7d9-b5b3-4230-cee2-696ed06b5c6d"
   },
   "outputs": [
    {
     "name": "stdout",
     "output_type": "stream",
     "text": [
      "(307511, 475)\n",
      "(307511, 294)\n"
     ]
    }
   ],
   "source": [
    "train_clean = train.drop(labels=to_drop_inds, axis=1, inplace=False)\n",
    "test_clean  = test.drop(labels=to_drop_inds, axis=1, inplace=False)\n",
    "print(str(train.shape))\n",
    "print(str(train_clean.shape))"
   ]
  },
  {
   "cell_type": "code",
   "execution_count": null,
   "metadata": {
    "colab": {
     "base_uri": "https://localhost:8080/",
     "height": 256
    },
    "colab_type": "code",
    "executionInfo": {
     "elapsed": 29140,
     "status": "ok",
     "timestamp": 1582886633049,
     "user": {
      "displayName": "Stefan Lessmann",
      "photoUrl": "https://lh3.googleusercontent.com/a-/AAuE7mCKZH0fFnuEStM6yZiXF-j1YmQDSOa5-mEYXknC=s64",
      "userId": "06342662613942148717"
     },
     "user_tz": -60
    },
    "id": "X7PrjpCCZK6t",
    "outputId": "4e77b26d-8967-47bc-fac6-b308e9d38e65"
   },
   "outputs": [
    {
     "name": "stderr",
     "output_type": "stream",
     "text": [
      "/usr/local/lib/python3.6/dist-packages/sklearn/linear_model/_logistic.py:940: ConvergenceWarning: lbfgs failed to converge (status=1):\n",
      "STOP: TOTAL NO. of ITERATIONS REACHED LIMIT.\n",
      "\n",
      "Increase the number of iterations (max_iter) or scale the data as shown in:\n",
      "    https://scikit-learn.org/stable/modules/preprocessing.html\n",
      "Please also refer to the documentation for alternative solver options:\n",
      "    https://scikit-learn.org/stable/modules/linear_model.html#logistic-regression\n",
      "  extra_warning_msg=_LOGISTIC_SOLVER_CONVERGENCE_MSG)\n"
     ]
    },
    {
     "data": {
      "text/plain": [
       "LogisticRegression(C=1.0, class_weight=None, dual=False, fit_intercept=True,\n",
       "                   intercept_scaling=1, l1_ratio=None, max_iter=200,\n",
       "                   multi_class='auto', n_jobs=None, penalty='none',\n",
       "                   random_state=None, solver='lbfgs', tol=0.0001, verbose=0,\n",
       "                   warm_start=False)"
      ]
     },
     "execution_count": 44,
     "metadata": {
      "tags": []
     },
     "output_type": "execute_result"
    }
   ],
   "source": [
    "no_id = [x for x in train_clean.columns if x != 'SK_ID_CURR']\n",
    "model.fit(train_clean[no_id], label)"
   ]
  },
  {
   "cell_type": "code",
   "execution_count": null,
   "metadata": {
    "colab": {},
    "colab_type": "code",
    "id": "IkTf6Zbz82O7"
   },
   "outputs": [],
   "source": [
    "# finally, recreate train and test set\n",
    "# @Elias: does not work when working with the stored final data file\n",
    "train = data[data[\"SK_ID_CURR\"].isin(y[\"SK_ID_CURR\"]) == True]\n",
    "test  = data[data[\"SK_ID_CURR\"].isin(y[\"SK_ID_CURR\"]) == False]"
   ]
  },
  {
   "cell_type": "markdown",
   "metadata": {
    "colab_type": "text",
    "id": "UcthW3kkRVFa"
   },
   "source": [
    "### Using a pre-selected variable subset\n",
    "We do not want to conclude the exercise without having estimated at least one logit model. Therefore, we pre-defined a set of variables. Remove all other variables from the data and estimate a logit model that includes the following variables. "
   ]
  },
  {
   "cell_type": "code",
   "execution_count": null,
   "metadata": {
    "colab": {},
    "colab_type": "code",
    "id": "1jxH8FpfTAAK"
   },
   "outputs": [],
   "source": [
    "# Estimate a logit model with these variables if you have successfully \n",
    "# integrated the different data files including bureau data and previous applications \n",
    "var_selection=['app_EXT_SOURCE_MEAN',  'app_EXT_SOURCE_2',  'app_EXT_SOURCE_3',  'bur_DAYS_CREDIT_mean',  'pre_CODE_REJECT_REASON_SCOFR_sum',\n",
    "               'bur_DAYS_CREDIT_max',  'bur_DAYS_CREDIT_UPDATE_mean',  'app_AGE_YEARS',  'pre_NAME_CONTRACT_STATUS_Refused_mean',\n",
    "               'app_EXT_SOURCE_1',  'pre_NAME_PRODUCT_TYPE_walk-in_sum',  'app_CODE_GENDER_M',  'app_NAME_INCOME_TYPE_Working',\n",
    "               'app_NAME_EDUCATION_TYPE_Higher education',  'pre_CODE_REJECT_REASON_SCOFR_mean',  'pre_ACCEPTANCE_RATIO',\n",
    "               'bur_DAYS_CREDIT_UPDATE_max',  'pre_NAME_PRODUCT_TYPE_walk-in_mean',  'pre_NAME_CONTRACT_STATUS_Refused_sum',\n",
    "               'bur_DAYS_CREDIT_min',  'app_REGION_RATING_CLIENT_W_CITY', 'app_PERCENT_WORKED',  'bur_DAYS_CREDIT_ENDDATE_min', \n",
    "               'app_ANNUITY_LENGTH',  'pre_CODE_REJECT_REASON_XAP_mean']\n",
    "\n",
    "# If you took the shortcut and used only the application data, you can use these\n",
    "# variables for your final logit model\n",
    "app_only_vars=['app_EXT_SOURCE_2',  'app_EXT_SOURCE_3',  'app_DAYS_BIRTH',  'app_EXT_SOURCE_1', \n",
    "                 'app_CODE_GENDER_M',  'app_NAME_INCOME_TYPE_Working',  'app_NAME_EDUCATION_TYPE_Higher education',\n",
    "                 'app_REGION_RATING_CLIENT_W_CITY',  'app_DAYS_EMPLOYED',  'app_REGION_RATING_CLIENT', \n",
    "                 'app_NAME_EDUCATION_TYPE_Secondary / secondary special',  'app_DAYS_LAST_PHONE_CHANGE', \n",
    "                 'app_REG_CITY_NOT_WORK_CITY',  'app_FLAG_EMP_PHONE',  'app_NAME_INCOME_TYPE_Pensioner', \n",
    "                 'app_AMT_GOODS_PRICE',  'app_OCCUPATION_TYPE_Laborers',  'app_AMT_CREDIT',  'app_AMT_ANNUITY']"
   ]
  },
  {
   "cell_type": "code",
   "execution_count": null,
   "metadata": {
    "colab": {
     "base_uri": "https://localhost:8080/",
     "height": 109
    },
    "colab_type": "code",
    "executionInfo": {
     "elapsed": 2589,
     "status": "ok",
     "timestamp": 1582887418522,
     "user": {
      "displayName": "Stefan Lessmann",
      "photoUrl": "https://lh3.googleusercontent.com/a-/AAuE7mCKZH0fFnuEStM6yZiXF-j1YmQDSOa5-mEYXknC=s64",
      "userId": "06342662613942148717"
     },
     "user_tz": -60
    },
    "id": "K8XMPsdYNwJD",
    "outputId": "fd80d898-1024-413c-bd09-1f77867a7a88"
   },
   "outputs": [
    {
     "data": {
      "text/plain": [
       "LogisticRegression(C=1.0, class_weight=None, dual=False, fit_intercept=True,\n",
       "                   intercept_scaling=1, l1_ratio=None, max_iter=200,\n",
       "                   multi_class='auto', n_jobs=None, penalty='none',\n",
       "                   random_state=None, solver='lbfgs', tol=0.0001, verbose=0,\n",
       "                   warm_start=False)"
      ]
     },
     "execution_count": 48,
     "metadata": {
      "tags": []
     },
     "output_type": "execute_result"
    }
   ],
   "source": [
    "# Estimate another logit model using one of the above variable subsets\n",
    "model = LogisticRegression(penalty='none', fit_intercept=True, max_iter=200)\n",
    "model.fit(train[var_selection], label)"
   ]
  },
  {
   "cell_type": "markdown",
   "metadata": {
    "colab_type": "text",
    "id": "bwRQQSadcW9M"
   },
   "source": [
    "Success! Finally!\n",
    "Extract the intercept and coefficients your model for a quick check of the values look plausible. Then calculate the classification accuracy of your model using the training data. This is possible using a single line of code. Try finding the right function, which is part of scikit-learn. Also apply your model to the test data and calculate predictions."
   ]
  },
  {
   "cell_type": "code",
   "execution_count": null,
   "metadata": {
    "colab": {
     "base_uri": "https://localhost:8080/",
     "height": 201
    },
    "colab_type": "code",
    "executionInfo": {
     "elapsed": 759,
     "status": "ok",
     "timestamp": 1582887552200,
     "user": {
      "displayName": "Stefan Lessmann",
      "photoUrl": "https://lh3.googleusercontent.com/a-/AAuE7mCKZH0fFnuEStM6yZiXF-j1YmQDSOa5-mEYXknC=s64",
      "userId": "06342662613942148717"
     },
     "user_tz": -60
    },
    "id": "bsPLK3rWNxQL",
    "outputId": "eff62b93-f006-4d2f-c99f-d914bec4cec6"
   },
   "outputs": [
    {
     "name": "stdout",
     "output_type": "stream",
     "text": [
      "Intercept:\n",
      "[-2.7229193]\n",
      "Coefficients:\n",
      "[[-0.23217682 -0.29213002 -0.28762497 -0.18264873 -0.00367096  0.0332767\n",
      "  -0.0565933  -0.11314913  0.08176957  0.07217896  0.01007914  0.13455212\n",
      "   0.10505017 -0.18117381  0.01887851 -0.06497816  0.00577834  0.08572353\n",
      "   0.01603296  0.12440145  0.07575726 -0.13201247 -0.00771192 -0.01620045\n",
      "   0.00687211]]\n",
      "Accuracy:\n"
     ]
    },
    {
     "data": {
      "text/plain": [
       "0.9192191498840692"
      ]
     },
     "execution_count": 49,
     "metadata": {
      "tags": []
     },
     "output_type": "execute_result"
    }
   ],
   "source": [
    "# Code to print model coefficient and calculate accuracy on the training set\n",
    "print('Intercept:')\n",
    "print(model.intercept_)\n",
    "\n",
    "print('Coefficients:')\n",
    "print(model.coef_)\n",
    "\n",
    "print('Accuracy:')\n",
    "model.score(train[var_selection], label)"
   ]
  },
  {
   "cell_type": "code",
   "execution_count": null,
   "metadata": {
    "colab": {
     "base_uri": "https://localhost:8080/",
     "height": 375
    },
    "colab_type": "code",
    "executionInfo": {
     "elapsed": 554,
     "status": "ok",
     "timestamp": 1582890672785,
     "user": {
      "displayName": "Stefan Lessmann",
      "photoUrl": "https://lh3.googleusercontent.com/a-/AAuE7mCKZH0fFnuEStM6yZiXF-j1YmQDSOa5-mEYXknC=s64",
      "userId": "06342662613942148717"
     },
     "user_tz": -60
    },
    "id": "muMAKf0rnbgG",
    "outputId": "88c56496-2a4f-47a6-d69f-63f82e05d8ec"
   },
   "outputs": [
    {
     "data": {
      "text/plain": [
       "(array([2.6660e+04, 1.3643e+04, 5.0870e+03, 1.9810e+03, 8.2200e+02,\n",
       "        3.2200e+02, 1.5300e+02, 5.4000e+01, 2.0000e+01, 2.0000e+00]),\n",
       " array([0.00446808, 0.06707375, 0.12967943, 0.1922851 , 0.25489077,\n",
       "        0.31749644, 0.38010212, 0.44270779, 0.50531346, 0.56791913,\n",
       "        0.6305248 ]),\n",
       " <a list of 10 Patch objects>)"
      ]
     },
     "execution_count": 68,
     "metadata": {
      "tags": []
     },
     "output_type": "execute_result"
    },
    {
     "data": {
      "image/png": "[encoded data removed]",
      "text/plain": [
       "<Figure size 432x288 with 1 Axes>"
      ]
     },
     "metadata": {
      "tags": []
     },
     "output_type": "display_data"
    }
   ],
   "source": [
    "# Calculate test set predictions and visualize their distribution\n",
    "test_pred = model.predict_proba(test[var_selection])\n",
    "plt.hist(test_pred[:,1])"
   ]
  },
  {
   "cell_type": "markdown",
   "metadata": {
    "colab_type": "text",
    "id": "C-YTowBOXoPw"
   },
   "source": [
    "### Variable importance\n",
    "\n",
    "Logistic regression has the nice benefit of giving us information how \"important\" a variable is.\n",
    "\n",
    "Plot the top ten most important variables. Do the variables which you identified in the EDA show up? If you find variables in the list, you haven't looked at in the EDA, consider going back to the EDA task to plot them to get an intuition on why they might be important.\n",
    "\n",
    "**Hint:** If you have used the statsmodel library for your logit model, the above task should be easy. If you developed the logit model using scikit-learn, you cannot easily get p-values for regression coefficients. See [this post for some details and remedies](https://datascience.stackexchange.com/questions/15398/how-to-get-p-value-and-confident-interval-in-logisticregression-with-sklearn). A crude but workable solution for scikit-learn users is to select important variables by looking at the magnitude of the estimated coefficients. Provided you did scale your data, which we did before, coefficient magnitudes signal variable importance. We will discuss more powerful and versatile ways to determine variable importance in the course."
   ]
  },
  {
   "cell_type": "code",
   "execution_count": null,
   "metadata": {
    "colab": {
     "base_uri": "https://localhost:8080/",
     "height": 279
    },
    "colab_type": "code",
    "executionInfo": {
     "elapsed": 1231,
     "status": "ok",
     "timestamp": 1582887969597,
     "user": {
      "displayName": "Stefan Lessmann",
      "photoUrl": "https://lh3.googleusercontent.com/a-/AAuE7mCKZH0fFnuEStM6yZiXF-j1YmQDSOa5-mEYXknC=s64",
      "userId": "06342662613942148717"
     },
     "user_tz": -60
    },
    "id": "rXHBacx-Yh-z",
    "outputId": "7b9162a5-b7da-4bf7-f242-1d9a8c735f7e"
   },
   "outputs": [
    {
     "data": {
      "image/png": "[encoded data removed]",
      "text/plain": [
       "<Figure size 432x288 with 1 Axes>"
      ]
     },
     "metadata": {
      "tags": []
     },
     "output_type": "display_data"
    }
   ],
   "source": [
    "feature_importance = abs(model.coef_[0])\n",
    "feature_importance = 100.0 * (feature_importance / feature_importance.max())\n",
    "sorted_idx = np.argsort(feature_importance)\n",
    "sorted_idx = sorted_idx\n",
    "pos = np.arange(sorted_idx.shape[0]) + .5\n",
    "\n",
    "featfig = plt.figure()\n",
    "featax = featfig.add_subplot(1, 1, 1)\n",
    "featax.barh(pos, feature_importance[sorted_idx], align='center')\n",
    "featax.set_yticks(pos)\n",
    "featax.set_yticklabels(np.array(train.columns)[sorted_idx], fontsize=8)\n",
    "featax.set_xlabel('Relative Feature Importance')\n",
    "\n",
    "plt.show()"
   ]
  },
  {
   "cell_type": "markdown",
   "metadata": {
    "colab_type": "text",
    "id": "Xf7i-FcjjkaG"
   },
   "source": [
    "## The next steps: \n",
    "Given that this is a kaggle competition you can actually submit your prediction on the test dataset to the kaggle leaderboard and see how well you perform. Do not be too disappointed if not achieving a high place in the leaderboard ;)\n",
    "\n",
    "Feel free to further tweak your model by, for example, exploring other datasets of the competition, engineering new variables, etc. We will continue working with the data in the course and learn about various options to create a good  classification model."
   ]
  },
  {
   "cell_type": "code",
   "execution_count": null,
   "metadata": {
    "colab": {},
    "colab_type": "code",
    "id": "r8aatV8LWQdB"
   },
   "outputs": [],
   "source": [
    "ids = np.array(test['SK_ID_CURR'])\n",
    "submission = np.column_stack((ids,test_pred[:,1]))\n",
    "submission_csv = pd.DataFrame(submission, columns=['SK_ID_CURR','TARGET'])\n",
    "submission_csv['SK_ID_CURR'] = submission_csv['SK_ID_CURR'].astype('int32')\n",
    "submission_csv.to_csv('submission.csv', index=False)"
   ]
  },
  {
   "cell_type": "code",
   "execution_count": null,
   "metadata": {
    "colab": {},
    "colab_type": "code",
    "id": "7Ma5Abf-SA5M"
   },
   "outputs": [],
   "source": [
    "# Use kaggle API, as previously, to submit directly to kaggle. Alternatively, download and submit manually.\n",
    "from google.colab import files\n",
    "!pip install -q kaggle"
   ]
  },
  {
   "cell_type": "code",
   "execution_count": null,
   "metadata": {
    "colab": {
     "base_uri": "https://localhost:8080/",
     "height": 77,
     "resources": {
      "http://localhost:8080/nbextensions/google.colab/files.js": {
       "data": "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",
       "headers": [
        [
         "content-type",
         "application/javascript"
        ]
       ],
       "ok": true,
       "status": 200,
       "status_text": "OK"
      }
     }
    },
    "colab_type": "code",
    "executionInfo": {
     "elapsed": 13050,
     "status": "ok",
     "timestamp": 1582890812790,
     "user": {
      "displayName": "Stefan Lessmann",
      "photoUrl": "https://lh3.googleusercontent.com/a-/AAuE7mCKZH0fFnuEStM6yZiXF-j1YmQDSOa5-mEYXknC=s64",
      "userId": "06342662613942148717"
     },
     "user_tz": -60
    },
    "id": "JigzSPDY_jmA",
    "outputId": "d3593605-1974-47e4-c6b8-397fb1c25a35"
   },
   "outputs": [
    {
     "data": {
      "text/html": [
       "\n",
       "     <input type=\"file\" id=\"files-2b0f12d1-518e-4b42-84ca-300f2c241d10\" name=\"files[]\" multiple disabled />\n",
       "     <output id=\"result-2b0f12d1-518e-4b42-84ca-300f2c241d10\">\n",
       "      Upload widget is only available when the cell has been executed in the\n",
       "      current browser session. Please rerun this cell to enable.\n",
       "      </output>\n",
       "      <script src=\"/nbextensions/google.colab/files.js\"></script> "
      ],
      "text/plain": [
       "<IPython.core.display.HTML object>"
      ]
     },
     "metadata": {
      "tags": []
     },
     "output_type": "display_data"
    },
    {
     "name": "stdout",
     "output_type": "stream",
     "text": [
      "Saving kaggle.json to kaggle.json\n"
     ]
    }
   ],
   "source": [
    "uploaded = files.upload() # upload your kaggle api token here (kaggle.json), you may have to run this cell twice if an error pops up"
   ]
  },
  {
   "cell_type": "code",
   "execution_count": null,
   "metadata": {
    "colab": {},
    "colab_type": "code",
    "id": "DCGmthuV_pK3"
   },
   "outputs": [],
   "source": [
    "!mkdir -p ~/.kaggle\n",
    "!cp kaggle.json ~/.kaggle/\n",
    "!chmod 600 ~/.kaggle/kaggle.json"
   ]
  },
  {
   "cell_type": "code",
   "execution_count": null,
   "metadata": {
    "colab": {
     "base_uri": "https://localhost:8080/",
     "height": 72
    },
    "colab_type": "code",
    "executionInfo": {
     "elapsed": 3708,
     "status": "ok",
     "timestamp": 1582890836346,
     "user": {
      "displayName": "Stefan Lessmann",
      "photoUrl": "https://lh3.googleusercontent.com/a-/AAuE7mCKZH0fFnuEStM6yZiXF-j1YmQDSOa5-mEYXknC=s64",
      "userId": "06342662613942148717"
     },
     "user_tz": -60
    },
    "id": "Jdw0cnrQ_u3-",
    "outputId": "f40b7a3b-1182-44dd-9708-19634f08c53a"
   },
   "outputs": [
    {
     "name": "stdout",
     "output_type": "stream",
     "text": [
      "Warning: Looks like you're using an outdated API Version, please consider updating (server 1.5.6 / client 1.5.4)\n",
      "100% 1.26M/1.26M [00:00<00:00, 3.62MB/s]\n",
      "Successfully submitted to Home Credit Default Risk"
     ]
    }
   ],
   "source": [
    "!kaggle competitions submit -c home-credit-default-risk -f submission.csv -m \"Submission text\""
   ]
  },
  {
   "cell_type": "markdown",
   "metadata": {
    "colab_type": "text",
    "id": "K0iFqwihSGgw"
   },
   "source": [
    "Finally, visit the Kaggle Home Credit competition [submission page](https://www.kaggle.com/c/home-credit-default-risk/submissions) and check out your result."
   ]
  }
 ],
 "metadata": {
  "colab": {
   "collapsed_sections": [
    "QFRhSDwwlUln",
    "hLTCVrDqRCeh"
   ],
   "machine_shape": "hm",
   "name": "ProDok-ML - PreCourse - Task 2 - Solution.ipynb",
   "provenance": [
    {
     "file_id": "1XYhrs0mf3FnC4uNz3cldWGb0SAB3iD_l",
     "timestamp": 1582891015377
    },
    {
     "file_id": "1oVunbavGl6cfEqnbv7i-BsTMVwMr9y95",
     "timestamp": 1582657074800
    }
   ],
   "toc_visible": true
  },
  "kernelspec": {
   "display_name": "Python 3",
   "language": "python",
   "name": "python3"
  },
  "language_info": {
   "codemirror_mode": {
    "name": "ipython",
    "version": 3
   },
   "file_extension": ".py",
   "mimetype": "text/x-python",
   "name": "python",
   "nbconvert_exporter": "python",
   "pygments_lexer": "ipython3",
   "version": "3.7.6"
  }
 },
 "nbformat": 4,
 "nbformat_minor": 4
}
