{
  "nbformat": 4,
  "nbformat_minor": 0,
  "metadata": {
    "colab": {
      "name": "ProDok-ML - PreCourse - Task 2.ipynb",
      "provenance": [],
      "collapsed_sections": [
        "QFRhSDwwlUln",
        "hLTCVrDqRCeh"
      ],
      "toc_visible": true,
      "machine_shape": "hm",
      "include_colab_link": true
    },
    "kernelspec": {
      "name": "python3",
      "display_name": "Python 3"
    }
  },
  "cells": [
    {
      "cell_type": "markdown",
      "metadata": {
        "id": "view-in-github",
        "colab_type": "text"
      },
      "source": [
        "<a href=\"https://colab.research.google.com/github/stefanlessmann/VHB_ProDoc_ML/blob/master/ProDok_ML_PreCourse_Task_2.ipynb\" target=\"_parent\"><img src=\"https://colab.research.google.com/assets/colab-badge.svg\" alt=\"Open In Colab\"/></a>"
      ]
    },
    {
      "cell_type": "markdown",
      "metadata": {
        "id": "7r3pvDQF9hGk",
        "colab_type": "text"
      },
      "source": [
        "# Task 2: Distinguishing borrowers into good and bad credit risks\n",
        "In our second task, we continue working on binary classification using  logistic regression. However, instead of synthetic toy data, we will use a real world-data set referring to risk management and decision-making in credit scoring. Compared to our first task, this classification problem is much harder to solve and requires a number of steps to get a good result. The following tasks will guide you through the process of loading, integrating, and preparing the data to eventually develop a logistic regression model. The final model predicts the probability of a credit applicant to default, meaning that the outstanding amount would not be paid back (in full). If you would like some  background information on retail credit risk assessment, have a look at our paper on[ benchmarking classification models for credit scoring](https://doi.org/10.1016/j.ejor.2015.05.030).\n",
        "\n",
        "Should you feel that logistic regression is a rather simple model for a machine learning course, I can assure you that we will look at several more advanced learning algorithms in the course and apply some of these to the same credit scoring data you are about to use. That said, note that logistic regression is the single most important model for loan approval decisions in the industry. Familiarity with logistic regression is crucial for every data scientists and  machine learners. \n",
        "\n",
        "Also note that the focus of the task is not on developing a highly accurate classifier. This will soon become our goal but first we need to do some homework: **data preparation**. Data preparation is the core of the task. The data set is challenging and you need to work hard to bring the data into a form that facilitates building classification models. In the scope of doing so, you will work intensively with Python libraries commonly used in machine learning such as Pandas. Becoming acquainted with these libraries and gaining experience in working with complex, messy real-world data is the core of the task. \n",
        "\n",
        "So let's being with loading some of these standard libraries."
      ]
    },
    {
      "cell_type": "code",
      "metadata": {
        "id": "tjjQ9GwyAGzE",
        "colab_type": "code",
        "colab": {}
      },
      "source": [
        "# Loading some libraries we will need soon\n",
        "import gc\n",
        "import pandas as pd\n",
        "import numpy as np\n",
        "import matplotlib.pyplot as plt"
      ],
      "execution_count": 0,
      "outputs": []
    },
    {
      "cell_type": "markdown",
      "metadata": {
        "id": "VxFmZc5jO18l",
        "colab_type": "text"
      },
      "source": [
        "We are ready to start working with the data that we obtained from Kaggle. As has probably become clear already, the following tasks are nontrivial and might challenge you quite a bit. Work hard to solve them. It is definitly possible. Since the data is wel-known, you can also find much information and tips online, e.g., in the forum of the [Kaggle competition](https://www.kaggle.com/discussion). Shoud you nonetheless struggle with getting the data ready for analysis, using a shortcut is better than giving up. Much of the complexity of the following tasks comes from us integrating different sources of data. Getting the data ready for analysis would be a lot easier when using only the single data file *application_train.csv*. Using only this file, you could still perform many of the tasks we discuss below including handling missing values and outliers, scaling numeric variables, encoding categories, and, of course, developing a logistic regression classifier. "
      ]
    },
    {
      "cell_type": "markdown",
      "metadata": {
        "id": "f1NCFGhGjm-7",
        "colab_type": "text"
      },
      "source": [
        "## Create the initial dataset\n",
        "We will consider a subset of the available data from the [Kaggle Home credit default risk competition](https://www.kaggle.com/c/home-credit-default-risk/data):\n",
        "- application_train\n",
        "- application_test\n",
        "- bureau\n",
        "- previous_application\n",
        "\n",
        "The terms *training* and *test* data are omnipresent in (supervised) machine learning. We use the training data to build a model and the test data to assess that model. Importantly, the assessment involves applying the fully-specified (i.e., train**ed**) model to data that was not used before during model development (i.e., train**ing**). Another, more technical, important difference between the train and test data is that the former provides true labels for observations (i.e., a binary default / no-default indicator) whereas the latter does not. By observations we mean the rows of a DATA table, which correspond to bank clients who apply for a loan in the home credit data set.\n",
        "\n",
        "First of all, we are required to load the pre-processed h5 file as well as the datasets it contains. This requires you to have executed the data integration notebook for the home credit data and that the h5 file is available. Should that not be the case make sure to run the data integration notebook before moving on.\n",
        "\n",
        "\n",
        "We will now merge both train and test data with the other two datasets. First load the four above data sets into different pandas data frames using the *read_hdf* function. "
      ]
    },
    {
      "cell_type": "code",
      "metadata": {
        "id": "G4h-DluazsUT",
        "colab_type": "code",
        "colab": {}
      },
      "source": [
        "# Here is your first job: \n",
        "# Load the following data sets from the file data.h5, which you created when\n",
        "# executing the data integration notebook. Create one dataframe for each data \n",
        "# set. \n",
        "#   application_train (appl_train)\n",
        "#   application_test (appl_test)\n",
        "#   bureau (bureau)\n",
        "#   previous_application (prev)\n",
        "# where the entries in brackets suggests names for the corresponding variables.\n",
        "appl_train = \n",
        "appl_test  = \n",
        "bureau     = \n",
        "prev       = "
      ],
      "execution_count": 0,
      "outputs": []
    },
    {
      "cell_type": "markdown",
      "metadata": {
        "id": "819Zp4SdyYEE",
        "colab_type": "text"
      },
      "source": [
        "Well done!\n",
        "\n",
        "I know that the task to load some data seems rather trivial. However, especially when working with colab, some seemingly rudimentary tasks are not so easy and probably new to participants who have not used cloud-based services before. Hence, good you made it till here!\n",
        "\n",
        "You may have wondered why we have to bother with four different files at all. Well, companies routinely store data in databases and these consist of individual tables. The organization of the data at Kaggle mimics this approach. Different pieces of information are available in different tables, which can be linked to one another via shared columns (called foreign keys in database jargon). \n",
        "\n",
        "### Integrating the data\n",
        "Our next task is to merge the data set to create one big table. To that end, you first have to identify suitable key columns, which facilitate joining the different data sets. Note that the data set [homepage](https://www.kaggle.com/c/home-credit-default-risk/data) offers a nice graph of the structure of the data. Considering that graph, identifying suitable keys should not be that difficult. Once accomplished, the missing bit is a suitable function to merge data frames. A good time to ask your favorite search engine for help ;)"
      ]
    },
    {
      "cell_type": "code",
      "metadata": {
        "id": "GGwOSoWSqJ5G",
        "colab_type": "code",
        "colab": {}
      },
      "source": [
        "# Merge the data on previous applications (prev) into the training data (appl_train)\n",
        "# and also into the test data (appl_test)\n",
        "train = \n",
        "test  = "
      ],
      "execution_count": 0,
      "outputs": []
    },
    {
      "cell_type": "code",
      "metadata": {
        "id": "mYMDqH39S1rN",
        "colab_type": "code",
        "colab": {}
      },
      "source": [
        "# Next merge the credit bureau data into the training and test set.\n",
        "train = \n",
        "test  = "
      ],
      "execution_count": 0,
      "outputs": []
    },
    {
      "cell_type": "markdown",
      "metadata": {
        "id": "ZNoPYScr_qLA",
        "colab_type": "text"
      },
      "source": [
        "\n",
        "Note that the above operation of merging the data is equivalent to a join operation in SQL. Did you now that SQL knows different ways to join tables? Check which type of join you have performed, left, right, or inner. And then ask yourself what type would the correct for our data."
      ]
    },
    {
      "cell_type": "markdown",
      "metadata": {
        "id": "sx8_IAQUO2Ub",
        "colab_type": "text"
      },
      "source": [
        "At this point, you should have two dataframes that store the training and test data, respectively. Run the following code cell to get an overview of all variables in your workspace. Also add code to display the dimensionality of your data, that is the number of rows and columns. Do this for the training and test set."
      ]
    },
    {
      "cell_type": "code",
      "metadata": {
        "id": "sMLEKsXiADjA",
        "colab_type": "code",
        "outputId": "2ac18f45-ee78-4995-b0a8-95c1e064a730",
        "colab": {
          "base_uri": "https://localhost:8080/",
          "height": 311
        }
      },
      "source": [
        "# Run this to get an overview of variables in your workspace\n",
        "%whos\n",
        "\n",
        "# Write some code to query the dimensionality of your dataframes. \n",
        "# Put differently, how many rows and columns are available in the \n",
        "# training and test set?\n",
        "print('\\nDimension of the training and test set:')\n",
        "print(train.shape)\n",
        "print(test.shape)"
      ],
      "execution_count": 0,
      "outputs": [
        {
          "output_type": "stream",
          "text": [
            "Variable     Type         Data/Info\n",
            "-----------------------------------\n",
            "appl_test    DataFrame           SK_ID_CURR  ...  a<...>[48744 rows x 26 columns]\n",
            "appl_train   DataFrame            SK_ID_CURR  ...  <...>307511 rows x 27 columns]\n",
            "bureau       DataFrame             SK_ID_CURR  ... <...>716428 rows x 12 columns]\n",
            "drive        module       <module 'google.colab.dri<...>s/google/colab/drive.py'>\n",
            "gc           module       <module 'gc' (built-in)>\n",
            "np           module       <module 'numpy' from '/us<...>kages/numpy/__init__.py'>\n",
            "pd           module       <module 'pandas' from '/u<...>ages/pandas/__init__.py'>\n",
            "plt          module       <module 'matplotlib.pyplo<...>es/matplotlib/pyplot.py'>\n",
            "prev         DataFrame             SK_ID_CURR  ... <...>670214 rows x 30 columns]\n",
            "test         DataFrame             SK_ID_CURR  ... <...>582679 rows x 66 columns]\n",
            "train        DataFrame             SK_ID_CURR  TARG<...>091522 rows x 67 columns]\n",
            "Dimension of the training and test set:\n",
            "(8091522, 67)\n",
            "(1582679, 66)\n"
          ],
          "name": "stdout"
        }
      ]
    },
    {
      "cell_type": "markdown",
      "metadata": {
        "id": "eTc__9tHPnJs",
        "colab_type": "text"
      },
      "source": [
        "You should see a bit more than 8 mio. rows in the training set and about close to 1.6 mio. rows in the test set. That is a lot of data! Complete the following code cell to query the dimensionality of the original dataframes that you have loaded from data.h5"
      ]
    },
    {
      "cell_type": "code",
      "metadata": {
        "id": "EQAmeStyQavY",
        "colab_type": "code",
        "colab": {}
      },
      "source": [
        "# Query dimensionality of the four dataframes \n",
        "# appl_train, appl_test, bureau, and prev.\n"
      ],
      "execution_count": 0,
      "outputs": []
    },
    {
      "cell_type": "markdown",
      "metadata": {
        "id": "GngHZRkKRAXv",
        "colab_type": "text"
      },
      "source": [
        "Hopefully the above task was easy for you. It actually produced an important result. See how the original data was much smaller. For example, you should see 307511 observations in *application_train*. However, the number of observations in the dataframe *train*, which you created by merging the application, bureau, and previous applications data, was much larger; i.e., about 8 mio. Why is that?\n",
        "\n",
        "### Understanding data integration\n",
        "The answer is related to the way in which dataframes (tables) are merged (joined). I encourage you to spend some time on this matter to understand how we ended up with more than 8 mio. rows in the training data. Eyballing the data using the Pandas function *head() is a good starting point.  "
      ]
    },
    {
      "cell_type": "code",
      "metadata": {
        "id": "_CCPwAefSYUE",
        "colab_type": "code",
        "colab": {}
      },
      "source": [
        "# Use the function head() to get on overview of the training data after merging\n"
      ],
      "execution_count": 0,
      "outputs": []
    },
    {
      "cell_type": "markdown",
      "metadata": {
        "id": "cm8nOKWWSvjR",
        "colab_type": "text"
      },
      "source": [
        "You should have seen a pattern that one credit applications, with a given ID, re-appears. Noting this pattern is the starting point to explaining the difference between 307511 credit applications in the training set (indeed, we do only have that many applications) and the more than 8 mio. observations we obtain after merging. Merging reproduces rows. \n",
        "\n",
        "Imagine a single credit applicant. Let's call her Eve. Eve applies for a loan. We would see one entry for Eve in the original training data (application_train at the Kaggle website). The data file previous_applications provides information about the credit history of Eve. Let's assume she had applied for ten different loans in the past. So the previous_applications file has ten entries for Eve. Merging application_train and previous_applications, we obtain ten entries for Eve in the resulting dataframe. The values for the variables (i.e., columns) of the application data re-occur over these ten rows, whereas the values in the columns belonging to the previous application data will vary. In the above sketch of the data, you can scroll to the right to verify that such a pattern exist. A first block of colums displays re-occuring values. Later on, there is a block of columns the values of which do not re-occur.\n",
        "\n",
        "I recommend you go back to previous steps, re-run cells, maybe playing a bit with the *head()* function, etc. to make sure you fully understand what has happend with the data before moving on. "
      ]
    },
    {
      "cell_type": "markdown",
      "metadata": {
        "id": "deRxDMmorw9L",
        "colab_type": "text"
      },
      "source": [
        "### Moving on\n",
        "Maybe it is time to clean up a little bit. Since you have the training and test data integrated, you do not need the dataframes that you created when loading the data from disk. Delete these and other unneeded variables from memory. This is important to avoid your notebook chrashing because of out of memory errors. Remeber, the training and test set have, togehter, close to 10 mio. observations. We better pay attention to how much memory or program consumes. "
      ]
    },
    {
      "cell_type": "code",
      "metadata": {
        "id": "epwz_-WWsH73",
        "colab_type": "code",
        "colab": {}
      },
      "source": [
        "del bureau, prev, appl_train, appl_test"
      ],
      "execution_count": 0,
      "outputs": []
    },
    {
      "cell_type": "markdown",
      "metadata": {
        "id": "keNWWScWqguS",
        "colab_type": "text"
      },
      "source": [
        "Machine learning commonly involves processing *large* data sets. The previous steps gave us a feeling for such data. Subsequent steps will also exemplify some of the specific challanges that arise when working with larger data sets. What I mean by that? You should ready yourself for experiecing your notebook to crash due to out of memory errors and the like. Your will also notice that certain computations take a 'little' time to complete. Do not allow such issues to frustrate you should they occur. Using machine learning in your research will involve processing nontrivial data sets. So it is good to get familiar with somewhat complex data and the home credit data was deliberately chosen for that reason.\n",
        "\n",
        "One idea to keep the level of frustration as low as possible. Whenever you have accomplised a task and created a new version of the data, you can store it to an h5 file. The data integration notebook has familiarized you with that operation. The benefit of storing intermediate results is that when your code crashes at some point, you can load the intermediate result (i.e., data) and re-start from there. This is easier compared to having to re-start from scratch every time."
      ]
    },
    {
      "cell_type": "markdown",
      "metadata": {
        "id": "QFRhSDwwlUln",
        "colab_type": "text"
      },
      "source": [
        "## Explorative data analysis (EDA)\n",
        "\n",
        "Finally, we are ready to start working with the data. As a rule of thumb, the first step is always to inspect the data and get a first impression.\n",
        "\n",
        "Your job is to figure out which of the variables in the data set, in other words columns, might be important for classifying observations (aka rows, aka credit applications) into good and bad risks.  \n",
        "\n",
        "In exploratory data analysis (EDA), as the name entails, we explore data - in particular by plotting the distribution of different variables or by looking at the correlation between variables.\n",
        "\n",
        "First of all, take a look at the distribution of the target variable.\n",
        "\n",
        "Then, take three variables from all three sources (application, bureau, previous_application). Create variable distribution and correlation plots to check whether the selected variables appear important. The packages matplotlib pyplot (already loaded) or alternatively seaborn will help you here.\n"
      ]
    },
    {
      "cell_type": "markdown",
      "metadata": {
        "id": "mAF24SV47naI",
        "colab_type": "text"
      },
      "source": [
        "### Application:"
      ]
    },
    {
      "cell_type": "code",
      "metadata": {
        "id": "rA8CG1K6rUNe",
        "colab_type": "code",
        "colab": {}
      },
      "source": [
        "# Plot the distribution of the target variable\n"
      ],
      "execution_count": 0,
      "outputs": []
    },
    {
      "cell_type": "code",
      "metadata": {
        "id": "RI190ivcG719",
        "colab_type": "code",
        "colab": {}
      },
      "source": [
        "# Start out with a correlation plot -> strong correlation with the target variable \n",
        "# might be an indication that a variable is important. However, since there are \n",
        "# many variables in the data, I recommend you restrict the plot to a subset.\n"
      ],
      "execution_count": 0,
      "outputs": []
    },
    {
      "cell_type": "code",
      "metadata": {
        "id": "l4xRGlRmuvsX",
        "colab_type": "code",
        "outputId": "e9fd401a-5770-4ced-d1fa-2cd8bfe35e7e",
        "colab": {
          "base_uri": "https://localhost:8080/",
          "height": 265
        }
      },
      "source": [
        "# Comparison is difficult when not using density plots / stratified plots considering the target variable.\n",
        "# Out of the set of variables you consider above, select the one which is most \n",
        "# correlated with the target and visualize the variable's distribution for \n",
        "# good and bad credit applicants\n"
      ],
      "execution_count": 0,
      "outputs": [
        {
          "output_type": "display_data",
          "data": {
            "image/png": "[encoded data removed]",
            "text/plain": [
              "<Figure size 432x288 with 1 Axes>"
            ]
          },
          "metadata": {
            "tags": []
          }
        }
      ]
    },
    {
      "cell_type": "markdown",
      "metadata": {
        "id": "LlcplN7iDWM8",
        "colab_type": "text"
      },
      "source": [
        "Play around by running your code for other variables and examine their distribution across the two states of our target variable, good or bad, which are encoded as zero and one, respectively in the data. Make sure to also plot the distributions using both counts and relative frequencies.\n",
        "Hint: check out the option *density=True*.\n",
        "Finally, recall that we have previously merged different sources of data, application data, which consists of the information a credit applicant provides upon applying for a loan, bureau data, which is gathered by credit bureaus like the Schufa in Germany of Experian in the US, and data from previous credit applications of the same applicant. Make sure to examine variables (create plots) from each of these sources, and remember your focus: you strive to identify *important* variables. This is why your plots should display a variable's distributions for good and bad customers. "
      ]
    },
    {
      "cell_type": "code",
      "metadata": {
        "id": "7eaxbbu_sFCN",
        "colab_type": "code",
        "colab": {}
      },
      "source": [
        "# Code for exploring other variables goes here"
      ],
      "execution_count": 0,
      "outputs": []
    },
    {
      "cell_type": "markdown",
      "metadata": {
        "id": "_ITWx_XyxtLS",
        "colab_type": "text"
      },
      "source": [
        "Ok, that should be enough plotting for now. Did you produce any meaningful findings? Any clues which variables matter the most and which source of data is most relevant? Any evidence of outliers, data errors or the like? These are exemples of the type of questions EDA is meant to answer.\n",
        "\n",
        "## Data preparation\n",
        "\n",
        "Now that you have created the dataset and have a good understanding of it, it is time to prepare the data for the binary classification task. Likely, while trying to find relevant variables, you already noticed some issues with the data. In this sub-task, we will deal with those issues. First of all, we store the target variable of the train dataset in a separate dataframe and delete it from the train dataset. This allows us to combine the train and test dataframes, which, in turn, is useful because we want to apply operations such as imputing missing values or scaling the values of a variable to the training and the test data. "
      ]
    },
    {
      "cell_type": "code",
      "metadata": {
        "id": "hRudopX9-A2W",
        "colab_type": "code",
        "colab": {}
      },
      "source": [
        "# Extract the target variable from the training data and save it for later in a seperate dataframe\n",
        "# Next, remove the target variable from the dataframe storing the training data\n",
        "# Finally, create one large dataframe that stores both the training and test data\n"
      ],
      "execution_count": 0,
      "outputs": []
    },
    {
      "cell_type": "markdown",
      "metadata": {
        "id": "DNPcAoIyGY6a",
        "colab_type": "text"
      },
      "source": [
        "By the way, before moving on, are you sure you solved the previous task? \n",
        "\n",
        "For those credit applicants that were part of the training set, you extracted the value of the target variable. Check. \n",
        "\n",
        "Then you added the data from the applicants that formed the test data to the training data. Check. \n",
        "\n",
        "So now you have one combined dataframe with all information on credit applicants (i.e., their variables) and another dataframe or vector that stores the target variable. \n",
        "\n",
        "Ok, sounds good. But to make sure your code is ready for subsequent tasks, check whether your solution would, in theory, allow you to revert these steps. You certainly remember our friend Eve. Eve was an applicant who appeared in the training data. We do know the true value of the target variable for Eve. After extracting the target variable from the training dataframe, would you still be able to tell the value of the target variable of Eve? And would you also be able to do so if we, for some reason, randomly permute the rows in the dataframe? \n",
        "\n",
        "If yes all is well. You can move on even if unsure but note that you may have to come back to the previous operation later and revisit the way in which you extracted the target variable from the training set.\n",
        "\n",
        "One other point before moving on. How many observations (rows) do you have in the dataframe storing the target variable? We have 307511 credit applications in the training data so your answer should be 307511, right? I bet you get a different result when checking. What has happend and how can this be overcome? How to make sure that you have exactly 307511 values of the target varible? And are able to connect these values to the original credit applications? (Machine learners') Life is hard at times. "
      ]
    },
    {
      "cell_type": "markdown",
      "metadata": {
        "id": "0M770NGkyJYu",
        "colab_type": "text"
      },
      "source": [
        "### Time / Date based variables\n",
        "\n",
        "Some variables in the data set represent time information, such as the age of a credit applicant (app_DAYS_BIRTH). Examine the way in which this information is stored. You could, for example, consider a histogram or simply check the value range of the variable. "
      ]
    },
    {
      "cell_type": "code",
      "metadata": {
        "id": "EcVkaVlEiGs4",
        "colab_type": "code",
        "colab": {}
      },
      "source": [
        "# Depict the distribution of the variable 'app_DAYS_BIRTH'\n"
      ],
      "execution_count": 0,
      "outputs": []
    },
    {
      "cell_type": "markdown",
      "metadata": {
        "id": "gMGnWMEZiG3T",
        "colab_type": "text"
      },
      "source": [
        "You will have noticed that all entries for the variable are negative. It is common practice to store time-related information in such a way, e.g., the number of days that have past since some reference date. However, for data analysis, this format is less suitable. Your next task is to convert time information into a more useful format. This should be done for each variable that stores time related information. However, for simplicity we will only do the following:\n",
        "1. Identify variables that store time information\n",
        "1. Convert the values stored in those variables to positive numbers\n",
        "1. Calculate the age of an applicant in years and store it in a new variable *app_AGE_YEARS* "
      ]
    },
    {
      "cell_type": "code",
      "metadata": {
        "id": "7JL-yBtny9-a",
        "colab_type": "code",
        "colab": {}
      },
      "source": [
        "# Solutions to the three steps:\n",
        "# 1. Determine relevant variables\n"
      ],
      "execution_count": 0,
      "outputs": []
    },
    {
      "cell_type": "code",
      "metadata": {
        "id": "eGAT9G8bzKfo",
        "colab_type": "code",
        "colab": {}
      },
      "source": [
        "# 2. Convert all days_vars to positive numbers\n"
      ],
      "execution_count": 0,
      "outputs": []
    },
    {
      "cell_type": "code",
      "metadata": {
        "id": "PLPsqX_E2SM2",
        "colab_type": "code",
        "colab": {}
      },
      "source": [
        "# 3. Calculate age of applicant (ignore leap years for simnplicity)\n"
      ],
      "execution_count": 0,
      "outputs": []
    },
    {
      "cell_type": "markdown",
      "metadata": {
        "id": "xTkj1kp808Vc",
        "colab_type": "text"
      },
      "source": [
        "### Numerical variables\n",
        "Information is often stored as a numerical variable. The variables you processed above are an example. The age of an applicant is a numerical variable. Likewise, a credit score, an applicant's income, the amount of a loan, etc. are numerical variables.\n",
        "\n",
        "Often, the scale of numerical variables varies substantially. A variable may also exhibit extreme values (i.e., outliers), which can cause problems. In this sub-task, you have to make choices concerning handling potential outliers.\n",
        "Try to find all numerical variables and apply outlier detection. Box-Plots are always a helpful tool to check for outliers, however there might be other (more automatic) strategies to handle outliers.\n",
        "\n",
        "The definition what value constitutes an outlier is somewhat subjective. Make a sensible decision and replace outliers by a missing-value."
      ]
    },
    {
      "cell_type": "code",
      "metadata": {
        "id": "g9s-gFAH30l4",
        "colab_type": "code",
        "colab": {}
      },
      "source": [
        "# Detect outliers within numeric variables and replace them with a missing value\n",
        "\n",
        "\n",
        "# calculate z-score for every col, remove values greater 2 standard deviations -> this can also be done with scipy.stats zscore\n"
      ],
      "execution_count": 0,
      "outputs": []
    },
    {
      "cell_type": "markdown",
      "metadata": {
        "colab_type": "text",
        "id": "FZeh1eBenBM3"
      },
      "source": [
        "#### Memory Management\n",
        "\n",
        "With larger datasets, it is common to run into memory issues. Recent versions of Pandas (i.e., Pandas 1.x) are maybe are bit more robust but in general, it is good practice to pay attention to memory consumption. An easy way to free up memory is to convert binary variables, also called FLAG variables, to a small integer type and to reduce the float size of the other numeric variables. \n",
        "\n",
        "Make sure you fully understand the following code. Note how it helps with reducing the amount of consumed memory. If the code looks somewhat familiar you are correct. The data integration notebook uses a similar approach. Well spotted.\n",
        "\n",
        "Should the code produce an error, this is likely because you use different variable names than I use in my solution. For example, I name the dateframe with the integrated data *data*."
      ]
    },
    {
      "cell_type": "code",
      "metadata": {
        "colab_type": "code",
        "id": "6wZOM9AUnBMn",
        "outputId": "0400c247-7e92-465d-e015-7a1a7a2ba076",
        "colab": {
          "base_uri": "https://localhost:8080/",
          "height": 90
        }
      },
      "source": [
        "# Print the amount of memory your notebook is currently using\n",
        "print('Memory use before cleaning up:')\n",
        "print(str(data.memory_usage(index=True, deep=True).sum()//1024//1024)+' MB')\n",
        "\n",
        "floats = [x for x in data.columns if data[x].dtype in ['float16', 'float32', 'float64']]\n",
        "data[floats] = data[floats].astype('float32')\n",
        "flags = [x for x in data.columns if 'FLAG' in x]\n",
        "\n",
        "data[flags] = data[flags].astype('int8')\n",
        "\n",
        "print('Memory use after  cleaning up:')\n",
        "print(str(data.memory_usage(index=True, deep=True).sum()//1024//1024)+' MB')"
      ],
      "execution_count": 0,
      "outputs": [
        {
          "output_type": "stream",
          "text": [
            "Memory use before cleaning up:\n",
            "3642 MB\n",
            "Memory use after  cleaning up:\n",
            "2941 MB\n"
          ],
          "name": "stdout"
        }
      ]
    },
    {
      "cell_type": "markdown",
      "metadata": {
        "id": "1S-oMpXc4AJu",
        "colab_type": "text"
      },
      "source": [
        "### Categorical variables\n",
        "\n",
        "Another important type of variables are categorical variables. These are variables that  do not have an explicit numeric meaning but represent different categories or classes. An example for a categorical variable could be the occupation of a person (e.g. Student, Factory-worker, Accountant...). Each category level provides information about a person but you cannot transfer the different occupations into a numeric space. Some algorithm implementations have built-in functions to deal with categories. Typically, however, this is your job. In this sub-task, we will use one-hot encoding (also referenced as dummy encoding) where every class becomes a binary variable. For more information read e.g. [this post](https://towardsdatascience.com/one-hot-encoding-multicollinearity-and-the-dummy-variable-trap-b5840be3c41a).\n",
        "\n",
        "Before performing the actual coding operations, however, we need to attend to one issue in our data. You have probably not noticed it but three variables have changed their data type from category to object when we combined the training and test data. Feel free to diagnose why his happend if you are interested. It has to do with different category levels in the training and test set. Without going into details, we want to convert the affected variables back to data type categorical. So determine which variables are stored as data type object, verify that these variables are indeed categorical variabels and convert them to data type category before moving on. "
      ]
    },
    {
      "cell_type": "code",
      "metadata": {
        "id": "kvMl7G8fwLCf",
        "colab_type": "code",
        "colab": {}
      },
      "source": [
        "# Identify variables of data type object and convert these to data type category\n"
      ],
      "execution_count": 0,
      "outputs": []
    },
    {
      "cell_type": "markdown",
      "metadata": {
        "id": "j0cr78TxweGj",
        "colab_type": "text"
      },
      "source": [
        "At this point, your data set should include 24 categorical variables. Verify this is the case, Then transform the categorical variables using dummy coding. There is a nice function to do so with just one line of code. \n",
        "\n",
        "Make sure to apply reference coding. For example, if you have a categorical variable with three levels: red, green, blue you need only 3-1=2 two dummy variables to encode the information of the category as, e.g., isRed {0,1}, isGreen {0,1}. If both dummies are equal to zero, this implies that the category level of the observation before dummy coding was blue. In other words, you do not need a third dummy variable isBlue {0,1} to encode the category. Using n-1 dummy variables, with n denoting the number of category levels, is called reference coding."
      ]
    },
    {
      "cell_type": "code",
      "metadata": {
        "id": "eYmTqyeaKt_1",
        "colab_type": "code",
        "outputId": "f63e4abf-6db0-4929-f10a-5191f6cfa4a3",
        "colab": {
          "base_uri": "https://localhost:8080/",
          "height": 72
        }
      },
      "source": [
        "# Do you have 24 categorical variables? Check. \n",
        "\n",
        "# Also print the total number of columns in your data\n",
        "\n",
        "# Encode categories as dummy variables and check again how many columns you have in your data\n",
        "\n"
      ],
      "execution_count": 0,
      "outputs": [
        {
          "output_type": "stream",
          "text": [
            "Number of categories is: 24\n",
            "Number of columns is: 67\n"
          ],
          "name": "stdout"
        },
        {
          "output_type": "execute_result",
          "data": {
            "text/plain": [
              "(9674201, 274)"
            ]
          },
          "metadata": {
            "tags": []
          },
          "execution_count": 38
        }
      ]
    },
    {
      "cell_type": "markdown",
      "metadata": {
        "id": "_7oXk4d30ECx",
        "colab_type": "text"
      },
      "source": [
        "Did you notice the sharp increase in dimensionality? This is the disadvantage of dummy coding. In practice, we would need to process categories in a more elaborate way to avoid creating so many new dummy variables. If you are interested, have a look at [this paper](http://dx.doi.org/10.1016/j.dss.2015.02.007) to learn about alternative, better options."
      ]
    },
    {
      "cell_type": "markdown",
      "metadata": {
        "id": "jtLljOzsS5EL",
        "colab_type": "text"
      },
      "source": [
        "### Missing Values\n",
        "\n",
        "Another common issue in real world data are missing values. For different reasons, data may be incomplete. Many state-of-the-art implementations of machine learning algorithms have built-in algorithms to deal with missing values. However, this task will have you deal with them yourself.\n",
        "\n",
        "The two major paths to take here are either:\n",
        "- To drop the rows and/or columns with missing values\n",
        "- To impute the missing values\n",
        "\n",
        "To get an idea on the different possible approaches, read e.g.: [this](https://medium.com/ibm-data-science-experience/missing-data-conundrum-exploration-and-imputation-techniques-9f40abe0fd87)\n",
        "\n",
        "Scikit learn offers a good imputation algorithm that might also be helpful: [Sklearn Imputation](https://scikit-learn.org/stable/modules/impute.html). \n",
        "\n",
        "Try to deal with all missing values in the dataset applying the strategies of your choice.\n",
        "\n",
        "**Warning:** The data set is large, as is common practice in machine learning. You will most likely experience problems with memory errors and need to think carefully how you can perform calculations in an efficient manner."
      ]
    },
    {
      "cell_type": "code",
      "metadata": {
        "id": "6HDq_InfUNVR",
        "colab_type": "code",
        "colab": {}
      },
      "source": [
        "# Write code to replace missing values"
      ],
      "execution_count": 0,
      "outputs": []
    },
    {
      "cell_type": "markdown",
      "metadata": {
        "id": "8fcDXeAuCXoM",
        "colab_type": "text"
      },
      "source": [
        "The above steps have probably taken you some time. To make sure that you do not need to repeat them if something goes wrong in subsequent tasks (e.g., crashing your notebook), you should save your data at this point. The below code illustrates how but note that you might have to adjust the code because of you using different names for variables, different folder paths, etc. In the demo code, the relevant variables are called *data* and *y* and they store the data on credit applicants and target variables, respectively."
      ]
    },
    {
      "cell_type": "code",
      "metadata": {
        "id": "U2el9YzHq87Y",
        "colab_type": "code",
        "colab": {}
      },
      "source": [
        "#Save data to disk\n",
        "data.to_hdf('data_pp.h5', key='data', mode='w')\n",
        "y.to_hdf('data_pp.h5', key='y')"
      ],
      "execution_count": 0,
      "outputs": []
    },
    {
      "cell_type": "markdown",
      "metadata": {
        "id": "lJ1115w4C4jY",
        "colab_type": "text"
      },
      "source": [
        "So from here onwards, we could load the preprocessed data and continue working with it. If you use colab, you should also download the h5 file created above to store it permanently on your hard disk or a cloud drive."
      ]
    },
    {
      "cell_type": "code",
      "metadata": {
        "id": "pNC1eJJh7SfE",
        "colab_type": "code",
        "colab": {}
      },
      "source": [
        "# You can use this point to re-load the data if somethings goes wrong.\n",
        "# Simply un-comment the below lines if you actually want to load data\n",
        "# but note that the code needs adjustment to match your folder path and\n",
        "# variable names\n",
        "\n",
        "#y = pd.read_hdf('data_pp.h5', key='y')\n",
        "#data = pd.read_hdf('data_pp.h5', key='data')\n",
        "#!cp 'data_pp.h5' '/content/drive/My Drive/data_pp.h5' "
      ],
      "execution_count": 0,
      "outputs": []
    },
    {
      "cell_type": "markdown",
      "metadata": {
        "id": "ExPrbcUsU6qS",
        "colab_type": "text"
      },
      "source": [
        "### Feature Engineering\n",
        "\n",
        "Algorithms can detect many patterns in data. However, algorithms lack domain knowledge. Feature engineering is the most time consuming and one of the most important tasks in machine learning. It is all about transforming variables in such a way that finding relevant patters in data becomes easier for the algorithm. \n",
        "\n",
        "There are a number of basic transformation to enhance the informational value of a variable including, for example: \n",
        "- Logarithm\n",
        "- Multiplications / Ratios\n",
        "- Aggregations (Min, Max, Mode, Mean, Unique count, Sum, ...) \n",
        "\n",
        "The 'holy grail', however, is to create new features based on domain knowledge. This could involve, for example, combining multiple variables into a single variable by calculating ratios, moving averages, etc. In this task, you should try to create variables representing the following information:\n",
        "\n",
        "- A credit/income ratio\n",
        "- An annuity/income ratio\n",
        "- How much of their life a person has worked\n",
        "- How long the credit will run for until its paid off (Is this correct??)\n",
        "- A ratio on how much credit was given compared to for what a person applied for\n",
        "- Number of previous applications\n",
        "- Previous acceptance ratio\n",
        "- Number of Active, Bad and Closed loans \n",
        "\n",
        "Later on, you can try to come up with yet more interesting or powerful variables to improve your analytical model."
      ]
    },
    {
      "cell_type": "code",
      "metadata": {
        "id": "ol6STmfXWISM",
        "colab_type": "code",
        "colab": {}
      },
      "source": [
        "# Write code to create the above features. \n",
        "# Feel free to also engineer additional features\n"
      ],
      "execution_count": 0,
      "outputs": []
    },
    {
      "cell_type": "markdown",
      "metadata": {
        "id": "eMC8s_FZ2LMm",
        "colab_type": "text"
      },
      "source": [
        "## Aggregating the data\n",
        "Finally, we come back to the point that our data does not yet has one row per applicant but many rows per applicant. We have elaborated on this issue above. Go back to the part on *Understanding data integration* if feeling a little shaky. \n",
        "\n",
        "The goal of our next task is to obtain a dataframe with exactly that many rows as there are in the original training set (application_training) and original test set (application_test). Remember that the other two data sets concerned with previous credit applications and burea data have rows and that this has amplified the number of observations when merging the data. \n",
        "\n",
        "So your task is to aggregate the data in a 'suitable' way."
      ]
    },
    {
      "cell_type": "code",
      "metadata": {
        "id": "9W0p_gKy2Ya8",
        "colab_type": "code",
        "colab": {}
      },
      "source": [
        "# Aggregate the data in a suitable way. In the end, you should have a dataframe\n",
        "# with exactly that many rows as there are in the original data files \n",
        "# application_train and application_test together. Write code to verify this.\n"
      ],
      "execution_count": 0,
      "outputs": []
    },
    {
      "cell_type": "markdown",
      "metadata": {
        "id": "qy8PTV8J7jMq",
        "colab_type": "text"
      },
      "source": [
        "### Normalizing numeric features\n",
        "\n",
        "Normalization is applied such that high variable values do not have a higher impact just because their value is high. For example, if we were to include both income and number of children, income will be in the thousands and number of children likely in the one-digits.\n",
        "\n",
        "We held of normalizing features, as we hadn't yet used them to create new features. Now normalize all features by substracting the mean and dividing by the standard deviation. Run a search for *z-score* for some background information."
      ]
    },
    {
      "cell_type": "code",
      "metadata": {
        "id": "2pojR66c3tzF",
        "colab_type": "code",
        "colab": {}
      },
      "source": [
        "# Normalize variable values by calculating z-scores\n"
      ],
      "execution_count": 0,
      "outputs": []
    },
    {
      "cell_type": "markdown",
      "metadata": {
        "id": "5-NaJOKmWXIG",
        "colab_type": "text"
      },
      "source": [
        "### Finalizing the preprocessing\n",
        "\n",
        "As a final step, you will have to split the data again into the original train and test set. Splitting the prepared data will allow us to train a model on the training and then apply the model to the test set. To perform the splitting, however,  it will be important that you have stored and maintained relevant ID variables. "
      ]
    },
    {
      "cell_type": "code",
      "metadata": {
        "id": "mFqZXVQSpWlw",
        "colab_type": "code",
        "colab": {}
      },
      "source": [
        "# Write code to seperate your data into three dataframes.\n",
        "# Eventually, you should have one dataframe containing the cases of the \n",
        "# original training set (application_train), one dataframe containing the\n",
        "# cases of the original test set (application_tests) and one more dataframe\n",
        "# storing the target variable of training set cases. We created the latter\n",
        "# dataframe in a previous task and it should still be available in your \n",
        "# memory.\n"
      ],
      "execution_count": 0,
      "outputs": []
    },
    {
      "cell_type": "code",
      "metadata": {
        "id": "UaCfRFEs4gyK",
        "colab_type": "code",
        "outputId": "a71884c1-6735-4305-daf7-8f51662e97a9",
        "colab": {
          "base_uri": "https://localhost:8080/",
          "height": 54
        }
      },
      "source": [
        "# Verify that the shapes of your splitted data match original data \n",
        "print(\"Training dataset shape: \",train.shape) # should have 307511 rows\n",
        "print(\"Test dataset shape: \",test.shape) # should have 48744 rows"
      ],
      "execution_count": 0,
      "outputs": [
        {
          "output_type": "stream",
          "text": [
            "Training dataset shape:  (307511, 475)\n",
            "Test dataset shape:  (48744, 475)\n"
          ],
          "name": "stdout"
        }
      ]
    },
    {
      "cell_type": "code",
      "metadata": {
        "id": "Mu6q4b1y45xS",
        "colab_type": "code",
        "colab": {}
      },
      "source": [
        "# Save final preprocessed data to easily reload for modeling\n",
        "train.to_hdf('data_fin.h5', key='train', mode='w')\n",
        "test.to_hdf('data_fin.h5', key='test')\n",
        "label.to_hdf('data_fin.h5', key='label')"
      ],
      "execution_count": 0,
      "outputs": []
    },
    {
      "cell_type": "code",
      "metadata": {
        "id": "GzL8kKIO5U_z",
        "colab_type": "code",
        "colab": {}
      },
      "source": [
        "# Make sure to permanently store the data if you use colab\n",
        "!cp 'data_fin.h5' '/content/drive/My Drive/ProDok/'"
      ],
      "execution_count": 0,
      "outputs": []
    },
    {
      "cell_type": "code",
      "metadata": {
        "id": "V5RPpMkC5R2r",
        "colab_type": "code",
        "colab": {}
      },
      "source": [
        "# And reload if necessary:\n",
        "train = pd.read_hdf('/content/drive/My Drive/ProDok/data_fin.h5', key='train')\n",
        "test = pd.read_hdf('/content/drive/My Drive/ProDok/data_fin.h5', key='test')\n",
        "label = pd.read_hdf('/content/drive/My Drive/ProDok/data_fin.h5', key='label')"
      ],
      "execution_count": 0,
      "outputs": []
    },
    {
      "cell_type": "markdown",
      "metadata": {
        "id": "Rjz4ReMUWREo",
        "colab_type": "text"
      },
      "source": [
        "## Creating the model\n",
        "Now that you successfully prepared the dataset, it is time to create a model for the task. We will return to the logistic regression classifier, which you could experience in the first task of the pre-course assingment.\n",
        "\n",
        "Given that the problem we are trying to solve is a binary classification problem, logistic regression is a good fit.\n",
        "\n",
        "Train a logistic regression on the train part of your dataset. This might fail. In a subsequent step we will evaluate the model and try to come up with a better one."
      ]
    },
    {
      "cell_type": "code",
      "metadata": {
        "id": "_eEs12cl7PX1",
        "colab_type": "code",
        "colab": {}
      },
      "source": [
        "# Write code to estimate a logistic regression model. \n",
        "# In task 1, you have used the statsmodel library and scikit-learn. I recommend\n",
        "# you now use scikit-learn because the data is large and the scikit-learn \n",
        "# implementation of logistic regression is more efficient. \n"
      ],
      "execution_count": 0,
      "outputs": []
    },
    {
      "cell_type": "markdown",
      "metadata": {
        "id": "b8AAfPu1Heqy",
        "colab_type": "text"
      },
      "source": [
        "### Attempting to to find the issue with the regression model:\n",
        "So while everything worked fine in the first task, the logit model we train on this data set does not converge. Any ideas why?\n",
        "\n",
        "Multi-collinearity might be a problem because we created such a large data. Try to identify variables that are highly correlated. You can examine different thresholds for *high*. Highly correlated variables should be removed. Do so and try again a estimate the logit model. "
      ]
    },
    {
      "cell_type": "code",
      "metadata": {
        "id": "MU3B9zgVIaxi",
        "colab_type": "code",
        "colab": {}
      },
      "source": [
        "# Create correlation matrix and identify highly correlated variables\n",
        "# Afterwards, remove one variable of each pair of correlated\n",
        "# variables from the data. Check how many variables you have managed to remove \n",
        "# in this way. You need rather low correlation thresholds to achieve a sizeable\n",
        "# reduction of dimensionality.\n",
        "# Try re-estimating the logit model after removing correlated variables. Note \n",
        "# that will not succeed even if you set the correlation threshold as low as 0.5. \n",
        "# Nonetheless, solving the task to remove correlated variables is a useful \n",
        "# programming exercise. \n"
      ],
      "execution_count": 0,
      "outputs": []
    },
    {
      "cell_type": "markdown",
      "metadata": {
        "id": "UcthW3kkRVFa",
        "colab_type": "text"
      },
      "source": [
        "### Using a pre-selected variable subset\n",
        "We do not want to conclude the exercise without having estimated at least one logit model. Therefore, we pre-defined a set of variables. Remove all other variables from the data and estimate a logit model that includes the following variables. "
      ]
    },
    {
      "cell_type": "code",
      "metadata": {
        "id": "1jxH8FpfTAAK",
        "colab_type": "code",
        "colab": {}
      },
      "source": [
        "# Estimate a logit model with these variables if you have successfully \n",
        "# integrated the different data files including bureau data and previous applications \n",
        "var_selection=['app_EXT_SOURCE_MEAN',  'app_EXT_SOURCE_2',  'app_EXT_SOURCE_3',  'bur_DAYS_CREDIT_mean',  'pre_CODE_REJECT_REASON_SCOFR_sum',\n",
        "               'bur_DAYS_CREDIT_max',  'bur_DAYS_CREDIT_UPDATE_mean',  'app_AGE_YEARS',  'pre_NAME_CONTRACT_STATUS_Refused_mean',\n",
        "               'app_EXT_SOURCE_1',  'pre_NAME_PRODUCT_TYPE_walk-in_sum',  'app_CODE_GENDER_M',  'app_NAME_INCOME_TYPE_Working',\n",
        "               'app_NAME_EDUCATION_TYPE_Higher education',  'pre_CODE_REJECT_REASON_SCOFR_mean',  'pre_ACCEPTANCE_RATIO',\n",
        "               'bur_DAYS_CREDIT_UPDATE_max',  'pre_NAME_PRODUCT_TYPE_walk-in_mean',  'pre_NAME_CONTRACT_STATUS_Refused_sum',\n",
        "               'bur_DAYS_CREDIT_min',  'app_REGION_RATING_CLIENT_W_CITY', 'app_PERCENT_WORKED',  'bur_DAYS_CREDIT_ENDDATE_min', \n",
        "               'app_ANNUITY_LENGTH',  'pre_CODE_REJECT_REASON_XAP_mean']\n",
        "\n",
        "# If you took the shortcut and used only the application data, you can use these\n",
        "# variables for your final logit model\n",
        "app_only_vars=['app_EXT_SOURCE_2',  'app_EXT_SOURCE_3',  'app_DAYS_BIRTH',  'app_EXT_SOURCE_1', \n",
        "                 'app_CODE_GENDER_M',  'app_NAME_INCOME_TYPE_Working',  'app_NAME_EDUCATION_TYPE_Higher education',\n",
        "                 'app_REGION_RATING_CLIENT_W_CITY',  'app_DAYS_EMPLOYED',  'app_REGION_RATING_CLIENT', \n",
        "                 'app_NAME_EDUCATION_TYPE_Secondary / secondary special',  'app_DAYS_LAST_PHONE_CHANGE', \n",
        "                 'app_REG_CITY_NOT_WORK_CITY',  'app_FLAG_EMP_PHONE',  'app_NAME_INCOME_TYPE_Pensioner', \n",
        "                 'app_AMT_GOODS_PRICE',  'app_OCCUPATION_TYPE_Laborers',  'app_AMT_CREDIT',  'app_AMT_ANNUITY']"
      ],
      "execution_count": 0,
      "outputs": []
    },
    {
      "cell_type": "code",
      "metadata": {
        "id": "K8XMPsdYNwJD",
        "colab_type": "code",
        "colab": {}
      },
      "source": [
        "# Estimate another logit model using one of the above variable subsets\n"
      ],
      "execution_count": 0,
      "outputs": []
    },
    {
      "cell_type": "markdown",
      "metadata": {
        "id": "bwRQQSadcW9M",
        "colab_type": "text"
      },
      "source": [
        "Success! Finally!\n",
        "Extract the interceot and coefficients your model for a quick check of the values look plausible. Then calculate the classification accuracy of your model using the training data. This is possible using a single line of code. Try finding the right function, which is part of scikit-learn. Also apply your model to the test data and calculate predictions."
      ]
    },
    {
      "cell_type": "code",
      "metadata": {
        "id": "bsPLK3rWNxQL",
        "colab_type": "code",
        "colab": {}
      },
      "source": [
        "# Code to print model coefficient and calculate accuracy on the training set\n"
      ],
      "execution_count": 0,
      "outputs": []
    },
    {
      "cell_type": "code",
      "metadata": {
        "id": "muMAKf0rnbgG",
        "colab_type": "code",
        "colab": {}
      },
      "source": [
        "# Calculate test set predictions and visualize their distribution\n"
      ],
      "execution_count": 0,
      "outputs": []
    },
    {
      "cell_type": "markdown",
      "metadata": {
        "id": "C-YTowBOXoPw",
        "colab_type": "text"
      },
      "source": [
        "### Variable importance\n",
        "\n",
        "Logistic regression has the nice benefit of giving us information how \"important\" a variable is.\n",
        "\n",
        "Plot the top ten most important variables. Do the variables which you identified in the EDA show up? If you find variables in the list, you haven't looked at in the EDA, consider going back to the EDA task to plot them to get an intuition on why they might be important.\n",
        "\n",
        "**Hint:** If you have used the statsmodel library for your logit model, the above task should be easy. If you developed the logit model using scikit-learn, you cannot easily get p-values for regression coefficients. See [this post for some details and remedies](https://datascience.stackexchange.com/questions/15398/how-to-get-p-value-and-confident-interval-in-logisticregression-with-sklearn). A crude but workable solution for scikit-learn users is to select important variables by looking at the magnitude of the estimated coefficients. Provided you did scale your data, which we did before, coefficient magnitudes signal variable importance. We will discuss more powerful and versatile ways to determine variable importance in the course."
      ]
    },
    {
      "cell_type": "code",
      "metadata": {
        "id": "rXHBacx-Yh-z",
        "colab_type": "code",
        "outputId": "7b9162a5-b7da-4bf7-f242-1d9a8c735f7e",
        "colab": {
          "base_uri": "https://localhost:8080/",
          "height": 279
        }
      },
      "source": [
        "# Code to visualize variable importance"
      ],
      "execution_count": 0,
      "outputs": [
        {
          "output_type": "display_data",
          "data": {
            "image/png": "[encoded data removed]",
            "text/plain": [
              "<Figure size 432x288 with 1 Axes>"
            ]
          },
          "metadata": {
            "tags": []
          }
        }
      ]
    },
    {
      "cell_type": "markdown",
      "metadata": {
        "id": "Xf7i-FcjjkaG",
        "colab_type": "text"
      },
      "source": [
        "## The next steps: \n",
        "Given that this is a kaggle competition you can actually submit your prediction on the test dataset to the kaggle leaderboard and see how well you perform. Do not be too disappointed if not achieving a high place in the leaderboard ;)\n",
        "\n",
        "Feel free to further tweak your model by, for example, exploring other datasets of the competition, engineering new variables, etc. We will continue working with the data in the course and learn about various options to create a good  classification model."
      ]
    }
  ]
}